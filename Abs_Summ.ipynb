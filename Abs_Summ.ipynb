{
  "nbformat": 4,
  "nbformat_minor": 0,
  "metadata": {
    "colab": {
      "name": "Abs_Summ.ipynb",
      "provenance": [],
      "collapsed_sections": [],
      "authorship_tag": "ABX9TyOxxjFaFLb05HMBnKeVi4Bb",
      "include_colab_link": true
    },
    "kernelspec": {
      "display_name": "Python 3",
      "name": "python3"
    }
  },
  "cells": [
    {
      "cell_type": "markdown",
      "metadata": {
        "id": "view-in-github",
        "colab_type": "text"
      },
      "source": [
        "<a href=\"https://colab.research.google.com/github/nowshad7/CSE4100and4250/blob/main/Abs_Summ.ipynb\" target=\"_parent\"><img src=\"https://colab.research.google.com/assets/colab-badge.svg\" alt=\"Open In Colab\"/></a>"
      ]
    },
    {
      "cell_type": "code",
      "metadata": {
        "id": "fOQhjSWMdYGb"
      },
      "source": [
        "import numpy as np\n",
        "import pandas as pd\n",
        "import matplotlib.pyplot as plt\n",
        "import tensorflow as tf\n",
        "from tqdm import tqdm\n",
        "import os\n",
        "from nltk.corpus import stopwords\n",
        "from tensorflow.keras import Sequential\n",
        "from tensorflow.keras.models import Model\n",
        "from tensorflow.keras.layers import Dense,LSTM,Bidirectional,Flatten,Dropout,BatchNormalization,Embedding,Input,TimeDistributed\n",
        "from sklearn.model_selection import train_test_split\n",
        "from tensorflow.keras.utils import plot_model"
      ],
      "execution_count": null,
      "outputs": []
    },
    {
      "cell_type": "code",
      "metadata": {
        "id": "niC65d_mVtjs",
        "colab": {
          "base_uri": "https://localhost:8080/"
        },
        "outputId": "50ff6cdb-978f-41b9-9bf3-59e43a763ffd"
      },
      "source": [
        "import nltk\n",
        "nltk.download('stopwords')"
      ],
      "execution_count": null,
      "outputs": [
        {
          "output_type": "stream",
          "text": [
            "[nltk_data] Downloading package stopwords to /root/nltk_data...\n",
            "[nltk_data]   Package stopwords is already up-to-date!\n"
          ],
          "name": "stdout"
        },
        {
          "output_type": "execute_result",
          "data": {
            "text/plain": [
              "True"
            ]
          },
          "metadata": {
            "tags": []
          },
          "execution_count": 31
        }
      ]
    },
    {
      "cell_type": "code",
      "metadata": {
        "id": "g7c4ZQ-Tr3QB",
        "colab": {
          "base_uri": "https://localhost:8080/"
        },
        "outputId": "5029a9fd-9816-4c1f-c8ba-94fd5eb1b95c"
      },
      "source": [
        "print(tf.__version__)"
      ],
      "execution_count": null,
      "outputs": [
        {
          "output_type": "stream",
          "text": [
            "2.3.0\n"
          ],
          "name": "stdout"
        }
      ]
    },
    {
      "cell_type": "code",
      "metadata": {
        "id": "bVqBkqv2XMiS",
        "colab": {
          "base_uri": "https://localhost:8080/"
        },
        "outputId": "91507072-b975-4c86-a099-42004fe39d6a"
      },
      "source": [
        "from zipfile import ZipFile\n",
        "file_name = \"archive.zip\"\n",
        "with ZipFile(file_name, 'r') as zip: \n",
        "  zip.extractall()\n",
        "  print(\"Done\")"
      ],
      "execution_count": null,
      "outputs": [
        {
          "output_type": "stream",
          "text": [
            "Done\n"
          ],
          "name": "stdout"
        }
      ]
    },
    {
      "cell_type": "code",
      "metadata": {
        "id": "ZnbVRrJLVR1N",
        "colab": {
          "base_uri": "https://localhost:8080/"
        },
        "outputId": "e3ca6ea3-e54c-4eb6-94e8-c957008274ff"
      },
      "source": [
        "all_data=[]\n",
        "Articles_with_stopwords=[]\n",
        "Articles_without_stopwords=[]\n",
        "Summaries=[]\n",
        "stop_words=set(stopwords.words('english'))\n",
        "for d,path,filenames in tqdm(os.walk('BBC News Summary')):\n",
        "    for file in filenames:\n",
        "        if os.path.isfile(d+'/'+file):\n",
        "            if('Summaries' in d+'/'+file):\n",
        "                with open(d+'/'+file,'r',errors='ignore') as f:\n",
        "                    summary=''.join([i.rstrip() for i in f.readlines()])\n",
        "                    Summaries.append(summary)\n",
        "                    f.close()\n",
        "            else:\n",
        "                with open(d+'/'+file,'r',errors='ignore') as f:\n",
        "                    Article=''.join([i.rstrip() for i in f.readlines()])\n",
        "                    Articles_with_stopwords.append(Article)\n",
        "                    Articles_without_stopwords.append(' '.join([w for w in Article.split() if w not in stop_words]))\n",
        "                    f.close()"
      ],
      "execution_count": null,
      "outputs": [
        {
          "output_type": "stream",
          "text": [
            "13it [00:00, 40.70it/s]\n"
          ],
          "name": "stderr"
        }
      ]
    },
    {
      "cell_type": "code",
      "metadata": {
        "id": "RQayb-S3VfzS",
        "colab": {
          "base_uri": "https://localhost:8080/"
        },
        "outputId": "55c1d705-c86e-4266-ce49-91159bbd8624"
      },
      "source": [
        "print(len(Articles_with_stopwords),len(Articles_without_stopwords),len(Summaries))"
      ],
      "execution_count": null,
      "outputs": [
        {
          "output_type": "stream",
          "text": [
            "2225 2225 2225\n"
          ],
          "name": "stdout"
        }
      ]
    },
    {
      "cell_type": "code",
      "metadata": {
        "id": "a67A7lWBOA5M",
        "colab": {
          "base_uri": "https://localhost:8080/",
          "height": 289
        },
        "outputId": "6abc109e-9c33-4e67-d7ab-8fc723741ebc"
      },
      "source": [
        "data=pd.DataFrame({'Articles without stop words':Articles_without_stopwords,'Article with stop words': Articles_with_stopwords,'Summary':Summaries})\n",
        "data.head()"
      ],
      "execution_count": null,
      "outputs": [
        {
          "output_type": "execute_result",
          "data": {
            "text/html": [
              "<div>\n",
              "<style scoped>\n",
              "    .dataframe tbody tr th:only-of-type {\n",
              "        vertical-align: middle;\n",
              "    }\n",
              "\n",
              "    .dataframe tbody tr th {\n",
              "        vertical-align: top;\n",
              "    }\n",
              "\n",
              "    .dataframe thead th {\n",
              "        text-align: right;\n",
              "    }\n",
              "</style>\n",
              "<table border=\"1\" class=\"dataframe\">\n",
              "  <thead>\n",
              "    <tr style=\"text-align: right;\">\n",
              "      <th></th>\n",
              "      <th>Articles without stop words</th>\n",
              "      <th>Article with stop words</th>\n",
              "      <th>Summary</th>\n",
              "    </tr>\n",
              "  </thead>\n",
              "  <tbody>\n",
              "    <tr>\n",
              "      <th>0</th>\n",
              "      <td>Hitch holds US box officeWill Smith's first ro...</td>\n",
              "      <td>Hitch holds on to US box officeWill Smith's fi...</td>\n",
              "      <td>Smith's comedy will be the first US movie rele...</td>\n",
              "    </tr>\n",
              "    <tr>\n",
              "      <th>1</th>\n",
              "      <td>Fockers keeps US box office leadFilm comedy Me...</td>\n",
              "      <td>Fockers keeps US box office leadFilm comedy Me...</td>\n",
              "      <td>The Incredibles took $300m (£160m) outside the...</td>\n",
              "    </tr>\n",
              "    <tr>\n",
              "      <th>2</th>\n",
              "      <td>Rapper Kanye West's shrewd soulUS hip-hop star...</td>\n",
              "      <td>Rapper Kanye West's shrewd soulUS hip-hop star...</td>\n",
              "      <td>Leaving his Chicago art school after only one ...</td>\n",
              "    </tr>\n",
              "    <tr>\n",
              "      <th>3</th>\n",
              "      <td>Elvis 'set chart hat-trick'The late US legend ...</td>\n",
              "      <td>Elvis 'set for chart hat-trick'The late US leg...</td>\n",
              "      <td>A Fool Such As I would become the 1,001st numb...</td>\n",
              "    </tr>\n",
              "    <tr>\n",
              "      <th>4</th>\n",
              "      <td>John Peel replacement show beginsThe permanent...</td>\n",
              "      <td>John Peel replacement show beginsThe permanent...</td>\n",
              "      <td>The permanent replacement for late DJ John Pee...</td>\n",
              "    </tr>\n",
              "  </tbody>\n",
              "</table>\n",
              "</div>"
            ],
            "text/plain": [
              "                         Articles without stop words  ...                                            Summary\n",
              "0  Hitch holds US box officeWill Smith's first ro...  ...  Smith's comedy will be the first US movie rele...\n",
              "1  Fockers keeps US box office leadFilm comedy Me...  ...  The Incredibles took $300m (£160m) outside the...\n",
              "2  Rapper Kanye West's shrewd soulUS hip-hop star...  ...  Leaving his Chicago art school after only one ...\n",
              "3  Elvis 'set chart hat-trick'The late US legend ...  ...  A Fool Such As I would become the 1,001st numb...\n",
              "4  John Peel replacement show beginsThe permanent...  ...  The permanent replacement for late DJ John Pee...\n",
              "\n",
              "[5 rows x 3 columns]"
            ]
          },
          "metadata": {
            "tags": []
          },
          "execution_count": 36
        }
      ]
    },
    {
      "cell_type": "code",
      "metadata": {
        "id": "8p1Qv4qBPbGk",
        "colab": {
          "base_uri": "https://localhost:8080/",
          "height": 154
        },
        "outputId": "f5e323d4-a964-4d0b-ec98-159839ebad09"
      },
      "source": [
        "data['Articles without stop words'][0]"
      ],
      "execution_count": null,
      "outputs": [
        {
          "output_type": "execute_result",
          "data": {
            "application/vnd.google.colaboratory.intrinsic+json": {
              "type": "string"
            },
            "text/plain": [
              "'Hitch holds US box officeWill Smith\\'s first romantic comedy, Hitch, topped North American box office second weekend.Smith plays New York \"date doctor\" love worries movie, took $31.8m (£16.8m). It held strong challenge new Keanu Reeves sci-fi thriller Constantine opened number two $30.5m (£16.1m) Constantine, based Hellblazer comics, stars Reeves exorcist must send Satan\\'s minions back hell. Two family films came next chart, Wayne Wang\\'s comedy Because Winn-Dixie, young girl abandoned dog, third position $10.85m (£5.73m).Comedy adventure Son Mask, came number four $7.7m (£4.1m), ahead Oscar favourite Million Dollar Baby five.Smith\\'s comedy first US movie released year top $100m (£52.7m) mark. It\\'s success continues strong trend Hollwood movie-going year figures popular President\\'s Day weekend 13% greater last year. Oscar contenders The Aviator, starring Leonardo DiCaprio Howard Hughes wine-tasting comedy Sideways, held onto positions top 10.'"
            ]
          },
          "metadata": {
            "tags": []
          },
          "execution_count": 37
        }
      ]
    },
    {
      "cell_type": "code",
      "metadata": {
        "id": "J4_Sc-89PhPk",
        "colab": {
          "base_uri": "https://localhost:8080/"
        },
        "outputId": "23bdd949-41f3-4718-ec29-19c19301df1c"
      },
      "source": [
        "for i in range(3):\n",
        "    print(data['Article with stop words'][i])\n",
        "    print(\"---------------------------------------------\")"
      ],
      "execution_count": null,
      "outputs": [
        {
          "output_type": "stream",
          "text": [
            "Hitch holds on to US box officeWill Smith's first romantic comedy, Hitch, has topped the North American box office for a second weekend.Smith plays a New York \"date doctor\" with love worries of his own in the movie, which took $31.8m (£16.8m). It held off a strong challenge from the new Keanu Reeves sci-fi thriller Constantine which opened at number two with $30.5m (£16.1m) Constantine, based on the Hellblazer comics, stars Reeves as an exorcist who must send Satan's minions back to hell. Two family films came next in the chart, with Wayne Wang's comedy Because of Winn-Dixie, about a young girl and an abandoned dog, in third position with $10.85m (£5.73m).Comedy adventure Son of the Mask, came in at number four with $7.7m (£4.1m), just ahead of Oscar favourite Million Dollar Baby at five.Smith's comedy will be the first US movie released this year to top the $100m (£52.7m) mark. It's success continues a strong trend of Hollwood movie-going this year with figures for the popular President's Day weekend 13% greater than last year. Oscar contenders The Aviator, starring Leonardo DiCaprio as Howard Hughes and wine-tasting comedy Sideways, both held onto positions in the top 10.\n",
            "---------------------------------------------\n",
            "Fockers keeps US box office leadFilm comedy Meet The Fockers, sequel to Meet The Parents, has topped the US box office for a third week.The movie, which stars Ben Stiller, Robert De Niro, Dustin Hoffman and Barbra Streisand, took $28.5m (£15.2m), making a total of 204.3m (£109m). Michael Keaton thriller White Noise was second with $24m (£12.8m) despite negative reviews. Martin Scorsese's Howard Hughes biopic The Aviator came third with $7.6m (£4m) and a total of $42.9m (£22.8m). Children's adventure Lemony Snicket's A Series of Unfortunate Events, starring Jim Carrey and Meryl Streep, fell two places to fourth position with $7.4m (£3.9m).It is also the ninth Jim Carrey film to hit the $100m (£53.2m) mark, according to Exhibitor Relations. And Fat Albert, a live-action adaptation of Bill Cosby's TV cartoon, fell one place to number five, with takings over the three days beginning on Friday of $5m (£2.6m). Ocean's Twelve took sixth place in the US chart with $5.4m (£2.8m), but it led the non-US chart at the weekend, according to Hollywood Reporter, with an estimated $17.7m (£9.4m) and total takings of $137m (£73m). The Incredibles took $300m (£160m) outside the US, while Meet the Fockers topped box office charts in Australia and Mexico with non-US takings of $19.35m (£10.2m).\n",
            "---------------------------------------------\n",
            "Rapper Kanye West's shrewd soulUS hip-hop star Kanye West - who leads the race for this year's Grammys with 10 nominations - rose to prominence by producing songs for artists such as Jay-Z and Alicia Keys.He then emerged from his behind-the-scenes role to become an artist as well as a producer. But his solo career almost ended before it began after a near-fatal car crash left West with his jaw wired shut in 2002. The resulting song, Through the Wire, became West's first UK hit in April 2004 and subsequent album The College Dropout became a transatlantic success, both critically and commercially. West, 26, began rapping as a teenager at his Chicago school, inspired by the beats and rhymes of 1980s pioneers Run DMC.Hip-hop producer No ID encouraged West to sample old soul and R&B hits then revive them with an updated sound, an approach that would become his trademark. \"I feel like a lot of the soul that's in those old records that I sample is in me,\" he said. \"So when I hear them and I put them with the drums and I bring them to the new millennium, it's just like God's doing that. I'm one with them records right there. It's a blessing.\"Leaving his Chicago art school after only one year - a move which would later inspire the title of his album - West began his music career co-producing songs for artists Mase and the Madd Rapper. This drew the attention of superstar rapper Jay-Z, who signed West up to his Roc-A-Fella record label to produce numerous artists on his roster. West's work gained mainstream recognition when he produced the singles Takeover and Izzo (HOVA) on Jay-Z's own 2001 album Blueprint. Incorporating samples of Five to One by The Doors and the Jackson Five's I Want You Back respectively, the hits were credited with injecting soul back into hip-hop.As their success attracted further production work for Jay-Z ('03 Bonnie & Clyde) and artists such as Ludacris (Stand Up) and Alicia Keys (You Don't Know My Name), West announced plans for a solo album. Driving home from a late-night Los Angeles recording session in October 2002, he was involved in the car crash that left his jaw fractured in three places. \"Anytime I hear about any accident my heart sinks in and I just thank God that I'm still here,\" he later said. \"That steering wheel could have been two inches further out, and that would have been it.\"West's account of the accident sampled Chaka Khan's hit Through the Fire to become the heart of his completed solo album The College Dropout. Released last year, it was by turns smooth, humorous and sharp and largely avoided the clich&#233;d hip-hop preoccupation with guns, girls and jewellery.Through the Wire was quickly joined in the UK and US charts by Slow Jamz, on which West collaborated with rapper Twista and Ray actor Jamie Foxx. The College Dropout spawned two further UK hits and a string of award nominations. West was shortlisted for 10 Grammys - including nominations for artist and album of the year - and took the best hip-hop artist, producer and album titles at last year's Music of Black Origin (Mobo) Awards. Now a respected rapper and producer in the influential field of hip-hop, Kanye West is unlikely to regret his decision to leave college early.\n",
            "---------------------------------------------\n"
          ],
          "name": "stdout"
        }
      ]
    },
    {
      "cell_type": "code",
      "metadata": {
        "id": "hzO_rcbBPsL_",
        "colab": {
          "base_uri": "https://localhost:8080/",
          "height": 86
        },
        "outputId": "39542ef2-d4ce-4e00-9613-0da76296e091"
      },
      "source": [
        "data['Summary'][0]"
      ],
      "execution_count": null,
      "outputs": [
        {
          "output_type": "execute_result",
          "data": {
            "application/vnd.google.colaboratory.intrinsic+json": {
              "type": "string"
            },
            "text/plain": [
              "\"Smith's comedy will be the first US movie released this year to top the $100m (£52.7m) mark.Oscar contenders The Aviator, starring Leonardo DiCaprio as Howard Hughes and wine-tasting comedy Sideways, both held onto positions in the top 10.Will Smith's first romantic comedy, Hitch, has topped the North American box office for a second weekend.Comedy adventure Son of the Mask, came in at number four with $7.7m (£4.1m), just ahead of Oscar favourite Million Dollar Baby at five.\""
            ]
          },
          "metadata": {
            "tags": []
          },
          "execution_count": 39
        }
      ]
    },
    {
      "cell_type": "code",
      "metadata": {
        "id": "9m5_zcXGe9va",
        "colab": {
          "base_uri": "https://localhost:8080/"
        },
        "outputId": "239ec84b-0361-4a64-d534-aaf8ea75f5e6"
      },
      "source": [
        "nltk.download('punkt')\n",
        "sentences = nltk.sent_tokenize(data['Article with stop words'][0])"
      ],
      "execution_count": null,
      "outputs": [
        {
          "output_type": "stream",
          "text": [
            "[nltk_data] Downloading package punkt to /root/nltk_data...\n",
            "[nltk_data]   Package punkt is already up-to-date!\n"
          ],
          "name": "stdout"
        }
      ]
    },
    {
      "cell_type": "code",
      "metadata": {
        "id": "wdP6N8ukfZmd",
        "colab": {
          "base_uri": "https://localhost:8080/",
          "height": 163
        },
        "outputId": "5dd81452-f20b-46bf-a560-22cb4e889ec6"
      },
      "source": [
        "sentences"
      ],
      "execution_count": null,
      "outputs": [
        {
          "output_type": "error",
          "ename": "AttributeError",
          "evalue": "ignored",
          "traceback": [
            "\u001b[0;31m---------------------------------------------------------------------------\u001b[0m",
            "\u001b[0;31mAttributeError\u001b[0m                            Traceback (most recent call last)",
            "\u001b[0;32m<ipython-input-46-a78f4367b08b>\u001b[0m in \u001b[0;36m<module>\u001b[0;34m()\u001b[0m\n\u001b[0;32m----> 1\u001b[0;31m \u001b[0msentences\u001b[0m\u001b[0;34m.\u001b[0m\u001b[0msize\u001b[0m\u001b[0;34m\u001b[0m\u001b[0;34m\u001b[0m\u001b[0m\n\u001b[0m",
            "\u001b[0;31mAttributeError\u001b[0m: 'list' object has no attribute 'size'"
          ]
        }
      ]
    },
    {
      "cell_type": "code",
      "metadata": {
        "id": "AVDKdKVAP4A1"
      },
      "source": [
        "import re"
      ],
      "execution_count": null,
      "outputs": []
    },
    {
      "cell_type": "code",
      "metadata": {
        "id": "QXIlOAcYP_7x"
      },
      "source": [
        "contraction_mapping = {\"ain't\": \"is not\", \"aren't\": \"are not\",\"can't\": \"cannot\", \"'cause\": \"because\", \"could've\": \"could have\", \"couldn't\": \"could not\",\n",
        "\n",
        "                           \"didn't\": \"did not\", \"doesn't\": \"does not\", \"don't\": \"do not\", \"hadn't\": \"had not\", \"hasn't\": \"has not\", \"haven't\": \"have not\",\n",
        "\n",
        "                           \"he'd\": \"he would\",\"he'll\": \"he will\", \"he's\": \"he is\", \"how'd\": \"how did\", \"how'd'y\": \"how do you\", \"how'll\": \"how will\", \"how's\": \"how is\",\n",
        "\n",
        "                           \"I'd\": \"I would\", \"I'd've\": \"I would have\", \"I'll\": \"I will\", \"I'll've\": \"I will have\",\"I'm\": \"I am\", \"I've\": \"I have\", \"i'd\": \"i would\",\n",
        "\n",
        "                           \"i'd've\": \"i would have\", \"i'll\": \"i will\",  \"i'll've\": \"i will have\",\"i'm\": \"i am\", \"i've\": \"i have\", \"isn't\": \"is not\", \"it'd\": \"it would\",\n",
        "\n",
        "                           \"it'd've\": \"it would have\", \"it'll\": \"it will\", \"it'll've\": \"it will have\",\"it's\": \"it is\", \"let's\": \"let us\", \"ma'am\": \"madam\",\n",
        "\n",
        "                           \"mayn't\": \"may not\", \"might've\": \"might have\",\"mightn't\": \"might not\",\"mightn't've\": \"might not have\", \"must've\": \"must have\",\n",
        "\n",
        "                           \"mustn't\": \"must not\", \"mustn't've\": \"must not have\", \"needn't\": \"need not\", \"needn't've\": \"need not have\",\"o'clock\": \"of the clock\",\n",
        "\n",
        "                           \"oughtn't\": \"ought not\", \"oughtn't've\": \"ought not have\", \"shan't\": \"shall not\", \"sha'n't\": \"shall not\", \"shan't've\": \"shall not have\",\n",
        "\n",
        "                           \"she'd\": \"she would\", \"she'd've\": \"she would have\", \"she'll\": \"she will\", \"she'll've\": \"she will have\", \"she's\": \"she is\",\n",
        "\n",
        "                           \"should've\": \"should have\", \"shouldn't\": \"should not\", \"shouldn't've\": \"should not have\", \"so've\": \"so have\",\"so's\": \"so as\",\n",
        "\n",
        "                           \"this's\": \"this is\",\"that'd\": \"that would\", \"that'd've\": \"that would have\", \"that's\": \"that is\", \"there'd\": \"there would\",\n",
        "\n",
        "                           \"there'd've\": \"there would have\", \"there's\": \"there is\", \"here's\": \"here is\",\"they'd\": \"they would\", \"they'd've\": \"they would have\",\n",
        "\n",
        "                           \"they'll\": \"they will\", \"they'll've\": \"they will have\", \"they're\": \"they are\", \"they've\": \"they have\", \"to've\": \"to have\",\n",
        "\n",
        "                           \"wasn't\": \"was not\", \"we'd\": \"we would\", \"we'd've\": \"we would have\", \"we'll\": \"we will\", \"we'll've\": \"we will have\", \"we're\": \"we are\",\n",
        "\n",
        "                           \"we've\": \"we have\", \"weren't\": \"were not\", \"what'll\": \"what will\", \"what'll've\": \"what will have\", \"what're\": \"what are\",\n",
        "\n",
        "                           \"what's\": \"what is\", \"what've\": \"what have\", \"when's\": \"when is\", \"when've\": \"when have\", \"where'd\": \"where did\", \"where's\": \"where is\",\n",
        "\n",
        "                           \"where've\": \"where have\", \"who'll\": \"who will\", \"who'll've\": \"who will have\", \"who's\": \"who is\", \"who've\": \"who have\",\n",
        "\n",
        "                           \"why's\": \"why is\", \"why've\": \"why have\", \"will've\": \"will have\", \"won't\": \"will not\", \"won't've\": \"will not have\",\n",
        "\n",
        "                           \"would've\": \"would have\", \"wouldn't\": \"would not\", \"wouldn't've\": \"would not have\", \"y'all\": \"you all\",\n",
        "\n",
        "                           \"y'all'd\": \"you all would\",\"y'all'd've\": \"you all would have\",\"y'all're\": \"you all are\",\"y'all've\": \"you all have\",\n",
        "\n",
        "                           \"you'd\": \"you would\", \"you'd've\": \"you would have\", \"you'll\": \"you will\", \"you'll've\": \"you will have\",\n",
        "\n",
        "                           \"you're\": \"you are\", \"you've\": \"you have\"}"
      ],
      "execution_count": null,
      "outputs": []
    },
    {
      "cell_type": "code",
      "metadata": {
        "id": "xWVBK6hYQKAx"
      },
      "source": [
        "def clean_text(text):\n",
        "    \n",
        "    #text=text.lower()\n",
        "    text=' '.join([contraction_mapping[i] if i in contraction_mapping.keys() else i for i in text.split()])\n",
        "    text=re.sub(r'\\(.*\\)',\"\",text)\n",
        "    text=re.sub(\"'s\",\"\",text)\n",
        "    text=re.sub('\"','',text)\n",
        "    text=' '.join([i for i in text.split() if i.isalpha()])\n",
        "    text=re.sub('[^a-zA-Z]',\" \",text)\n",
        "    \n",
        "    return text"
      ],
      "execution_count": null,
      "outputs": []
    },
    {
      "cell_type": "markdown",
      "metadata": {
        "id": "gjOnmdStaOO6"
      },
      "source": [
        "#BERT Embedinngs"
      ]
    },
    {
      "cell_type": "code",
      "metadata": {
        "id": "I7cdEGjRafrF"
      },
      "source": [
        "data['Article with stop words']=data['Article with stop words'].apply(clean_text)\n",
        "data['Articles without stop words']=data['Articles without stop words'].apply(clean_text)"
      ],
      "execution_count": null,
      "outputs": []
    },
    {
      "cell_type": "code",
      "metadata": {
        "id": "sPILD8nic4kN",
        "colab": {
          "base_uri": "https://localhost:8080/",
          "height": 86
        },
        "outputId": "f191ed98-7aa3-4667-d7b6-e043d12ebb71"
      },
      "source": [
        "data['Article with stop words'][0]"
      ],
      "execution_count": null,
      "outputs": [
        {
          "output_type": "execute_result",
          "data": {
            "application/vnd.google.colaboratory.intrinsic+json": {
              "type": "string"
            },
            "text/plain": [
              "'Hitch holds on to US box officeWill Smith first romantic has topped the North American box office for a second plays a New York date doctor with love worries of his own in the which took It success continues a strong trend of Hollwood this year with figures for the popular President Day weekend greater than last Oscar contenders The starring Leonardo DiCaprio as Howard Hughes and comedy both held onto positions in the top'"
            ]
          },
          "metadata": {
            "tags": []
          },
          "execution_count": 22
        }
      ]
    },
    {
      "cell_type": "code",
      "metadata": {
        "id": "FlU_d5GRdaza",
        "colab": {
          "base_uri": "https://localhost:8080/"
        },
        "outputId": "bc683362-3828-4f12-971f-37cd577c9dcb"
      },
      "source": [
        "import nltk\n",
        "nltk.download('punkt')\n",
        "sentences = nltk.sent_tokenize(data['Article with stop words'][0])"
      ],
      "execution_count": null,
      "outputs": [
        {
          "output_type": "stream",
          "text": [
            "[nltk_data] Downloading package punkt to /root/nltk_data...\n",
            "[nltk_data]   Package punkt is already up-to-date!\n"
          ],
          "name": "stdout"
        }
      ]
    },
    {
      "cell_type": "code",
      "metadata": {
        "id": "RwKtkxdmeLP2",
        "colab": {
          "base_uri": "https://localhost:8080/",
          "height": 163
        },
        "outputId": "83772f78-b812-4649-e890-2d10814e7892"
      },
      "source": [
        "sentences.shape"
      ],
      "execution_count": null,
      "outputs": [
        {
          "output_type": "error",
          "ename": "AttributeError",
          "evalue": "ignored",
          "traceback": [
            "\u001b[0;31m---------------------------------------------------------------------------\u001b[0m",
            "\u001b[0;31mAttributeError\u001b[0m                            Traceback (most recent call last)",
            "\u001b[0;32m<ipython-input-29-e4f6247c8a38>\u001b[0m in \u001b[0;36m<module>\u001b[0;34m()\u001b[0m\n\u001b[0;32m----> 1\u001b[0;31m \u001b[0msentences\u001b[0m\u001b[0;34m.\u001b[0m\u001b[0mshape\u001b[0m\u001b[0;34m\u001b[0m\u001b[0;34m\u001b[0m\u001b[0m\n\u001b[0m",
            "\u001b[0;31mAttributeError\u001b[0m: 'list' object has no attribute 'shape'"
          ]
        }
      ]
    },
    {
      "cell_type": "markdown",
      "metadata": {
        "id": "VHMnGrmDaYuk"
      },
      "source": [
        "#End Embedding "
      ]
    },
    {
      "cell_type": "code",
      "metadata": {
        "id": "81_cFQhhQQf2"
      },
      "source": [
        "data['Article with stop words']=data['Article with stop words'].apply(clean_text)\n",
        "data['Articles without stop words']=data['Articles without stop words'].apply(clean_text)\n",
        "data['Summary']=data['Summary'].apply(clean_text)\n",
        "data['Summary']='<START> '+data['Summary']+' <END>'"
      ],
      "execution_count": null,
      "outputs": []
    },
    {
      "cell_type": "code",
      "metadata": {
        "id": "cS4nLQnvQXGf",
        "colab": {
          "base_uri": "https://localhost:8080/",
          "height": 171
        },
        "outputId": "b873a184-c50c-41d5-fc8e-4252ed387feb"
      },
      "source": [
        "data['Article with stop words'][0]"
      ],
      "execution_count": null,
      "outputs": [
        {
          "output_type": "execute_result",
          "data": {
            "application/vnd.google.colaboratory.intrinsic+json": {
              "type": "string"
            },
            "text/plain": [
              "'blair labour pmtony blair has become the labour party prime premier has marked his day in the overtaking the combined length of harold wilson two terms during the and if mr blair wins the next election and fulfils his promise to serve a full third he will surpass margaret thatcher years by the end of in mr blair became the youngest premier of the when he came to power at the age of the last prime minister to be installed at a younger age was lord who was a year his junior in blair other political firsts include becoming the first labour leader to win two successive full terms in power after the labour and the birth of the fourth on was the first child born to a serving prime minister in more than the last downing street dad was lord john russell in labour won a huge majority of over the conservatives in but mr blair has since been criticised by many in his own the war in iraq and reforms of the health service and education system have provoked dissent from chancellor of the exchequer under mr became britain chancellor of modern times in former labour leader lord kinnock said the chancellor would be best placed to take over from mr when asked about the future leadership of the he told itv waterfront that contest is a long way away and it will occur only when the prime tony decides he is subscribed all he can and then wants to i think that the main contender will be gordon who is a man of virtually unmatched capability and now great both mr brown and mr blair rose to prominence when lord kinnock led labour between and'"
            ]
          },
          "metadata": {
            "tags": []
          },
          "execution_count": 129
        }
      ]
    },
    {
      "cell_type": "code",
      "metadata": {
        "id": "3hbi7o8nQbIR",
        "colab": {
          "base_uri": "https://localhost:8080/",
          "height": 171
        },
        "outputId": "64149bb9-205d-4d22-c267-6b5b66115390"
      },
      "source": [
        "data['Articles without stop words'][0]"
      ],
      "execution_count": null,
      "outputs": [
        {
          "output_type": "execute_result",
          "data": {
            "application/vnd.google.colaboratory.intrinsic+json": {
              "type": "string"
            },
            "text/plain": [
              "'blair labour pmtony blair become labour party prime premier marked day overtaking combined length harold wilson two terms if mr blair wins next election fulfils promise serve full third surpass margaret thatcher years end in mr blair became youngest premier came power age the last prime minister installed younger age lord year junior blair political firsts include becoming first labour leader win two successive full terms power labour and birth fourth first child born serving prime minister the last downing street dad lord john russell labour huge majority conservatives mr blair since criticised many the war iraq reforms health service education system provoked dissent chancellor exchequer mr became britain chancellor modern times former labour leader lord kinnock said chancellor would best placed take mr when asked future leadership told itv waterfront that contest long way away occur prime tony decides he is subscribed wants i think main contender gordon man virtually unmatched capability great both mr brown mr blair rose prominence lord kinnock led labour'"
            ]
          },
          "metadata": {
            "tags": []
          },
          "execution_count": 130
        }
      ]
    },
    {
      "cell_type": "code",
      "metadata": {
        "id": "PD42cE0UQh_i",
        "colab": {
          "base_uri": "https://localhost:8080/",
          "height": 103
        },
        "outputId": "34d9cc61-da52-4c98-b018-1643f2ca9428"
      },
      "source": [
        "data['Summary'][0]"
      ],
      "execution_count": null,
      "outputs": [
        {
          "output_type": "execute_result",
          "data": {
            "application/vnd.google.colaboratory.intrinsic+json": {
              "type": "string"
            },
            "text/plain": [
              "'<START> both mr brown and mr blair rose to prominence when lord kinnock led labour between and labour leader lord kinnock said the chancellor would be best placed to take over from mr blair has become the labour party prime won a huge majority of over the conservatives in but mr blair has since been criticised by many in his own chancellor of the exchequer under mr became britain chancellor of modern times in mr blair became the youngest premier of the when he came to power at the age of <END>'"
            ]
          },
          "metadata": {
            "tags": []
          },
          "execution_count": 131
        }
      ]
    },
    {
      "cell_type": "code",
      "metadata": {
        "id": "j_x-evNFQmBS",
        "colab": {
          "base_uri": "https://localhost:8080/"
        },
        "outputId": "b6763449-f39c-4ede-b37d-1143ad5295f8"
      },
      "source": [
        "X_train,X_val,Y_train,Y_val=train_test_split(data['Article with stop words'],data['Summary'],test_size=0.3,random_state=29)\n",
        "print(len(X_train),len(Y_train))\n",
        "print(len(X_val),len(Y_val))"
      ],
      "execution_count": null,
      "outputs": [
        {
          "output_type": "stream",
          "text": [
            "1557 1557\n",
            "668 668\n"
          ],
          "name": "stdout"
        }
      ]
    },
    {
      "cell_type": "code",
      "metadata": {
        "id": "QxevbetyQt6c",
        "colab": {
          "base_uri": "https://localhost:8080/",
          "height": 545
        },
        "outputId": "ae54238e-b5bc-4910-f13f-060df2e2851d"
      },
      "source": [
        "art_len=[len(i.split()) for i in X_train]\n",
        "sum_len=[len(i.split()) for i in Y_train]\n",
        "plt.hist(art_len,bins=50)\n",
        "plt.title('Article')\n",
        "plt.show()\n",
        "plt.hist(sum_len,bins=50)\n",
        "plt.title('Summary')\n",
        "plt.show()"
      ],
      "execution_count": null,
      "outputs": [
        {
          "output_type": "display_data",
          "data": {
            "image/png": "[encoded data removed]",
            "text/plain": [
              "<Figure size 432x288 with 1 Axes>"
            ]
          },
          "metadata": {
            "tags": [],
            "needs_background": "light"
          }
        },
        {
          "output_type": "display_data",
          "data": {
            "image/png": "[encoded data removed]",
            "text/plain": [
              "<Figure size 432x288 with 1 Axes>"
            ]
          },
          "metadata": {
            "tags": [],
            "needs_background": "light"
          }
        }
      ]
    },
    {
      "cell_type": "code",
      "metadata": {
        "id": "0w9RW4OwQ1m0"
      },
      "source": [
        "max_art_len=500\n",
        "max_sum_len=100"
      ],
      "execution_count": null,
      "outputs": []
    },
    {
      "cell_type": "code",
      "metadata": {
        "id": "aJ_lNbn2Q-Se"
      },
      "source": [
        "from tensorflow.keras.preprocessing.text import Tokenizer\n",
        "from tensorflow.keras.preprocessing.sequence import pad_sequences"
      ],
      "execution_count": null,
      "outputs": []
    },
    {
      "cell_type": "code",
      "metadata": {
        "id": "omzq2tvfRDe_"
      },
      "source": [
        "article_tokenizer=Tokenizer(oov_token='<UNK>')\n",
        "article_tokenizer.fit_on_texts(X_train)\n",
        "tokenized_X_train=article_tokenizer.texts_to_sequences(X_train)\n",
        "tokenized_X_val=article_tokenizer.texts_to_sequences(X_val)"
      ],
      "execution_count": null,
      "outputs": []
    },
    {
      "cell_type": "code",
      "metadata": {
        "id": "KcOr1IzpRIMy"
      },
      "source": [
        "art_vocab_size=len(article_tokenizer.word_index)+1"
      ],
      "execution_count": null,
      "outputs": []
    },
    {
      "cell_type": "code",
      "metadata": {
        "id": "_JJszYXeRM5l"
      },
      "source": [
        "padded_X_train=pad_sequences(tokenized_X_train,maxlen=max_art_len,padding='post',truncating='post')\n",
        "padded_X_val=pad_sequences(tokenized_X_val,maxlen=max_art_len,padding='post',truncating='post')"
      ],
      "execution_count": null,
      "outputs": []
    },
    {
      "cell_type": "code",
      "metadata": {
        "id": "DWuojoESRZW6",
        "colab": {
          "base_uri": "https://localhost:8080/"
        },
        "outputId": "6b37dd25-524b-4b57-abb7-5d9551215f71"
      },
      "source": [
        "print(padded_X_train.shape,padded_X_val.shape)"
      ],
      "execution_count": null,
      "outputs": [
        {
          "output_type": "stream",
          "text": [
            "(1557, 500) (668, 500)\n"
          ],
          "name": "stdout"
        }
      ]
    },
    {
      "cell_type": "code",
      "metadata": {
        "id": "Fl0s1-1NRcsS"
      },
      "source": [
        "summary_tokenizer=Tokenizer(oov_token='<UNK>')\n",
        "summary_tokenizer.fit_on_texts(Y_train)\n",
        "tokenized_Y_train=summary_tokenizer.texts_to_sequences(Y_train)\n",
        "tokenized_Y_val=summary_tokenizer.texts_to_sequences(Y_val)"
      ],
      "execution_count": null,
      "outputs": []
    },
    {
      "cell_type": "code",
      "metadata": {
        "id": "f5--yKr0Rgzy"
      },
      "source": [
        "sum_vocab_size=len(summary_tokenizer.word_index)+1"
      ],
      "execution_count": null,
      "outputs": []
    },
    {
      "cell_type": "code",
      "metadata": {
        "id": "dlHe0IbqRlLE"
      },
      "source": [
        "padded_Y_train=pad_sequences(tokenized_Y_train,maxlen=max_sum_len,padding='post',truncating='post')\n",
        "padded_Y_val=pad_sequences(tokenized_Y_val,maxlen=max_sum_len,padding='post',truncating='post')"
      ],
      "execution_count": null,
      "outputs": []
    },
    {
      "cell_type": "code",
      "metadata": {
        "id": "pYJWG5neRpht",
        "colab": {
          "base_uri": "https://localhost:8080/"
        },
        "outputId": "f2ba5edd-d903-4e12-90e5-20e4039191f1"
      },
      "source": [
        "print(padded_Y_train.shape,padded_Y_val.shape)"
      ],
      "execution_count": null,
      "outputs": [
        {
          "output_type": "stream",
          "text": [
            "(1557, 100) (668, 100)\n"
          ],
          "name": "stdout"
        }
      ]
    },
    {
      "cell_type": "code",
      "metadata": {
        "id": "dmUTWbxMv0ud",
        "colab": {
          "base_uri": "https://localhost:8080/"
        },
        "outputId": "70804867-8f22-402d-bf6e-b3751d5faf39"
      },
      "source": [
        "print(padded_Y_train[1].size)"
      ],
      "execution_count": null,
      "outputs": [
        {
          "output_type": "stream",
          "text": [
            "100\n"
          ],
          "name": "stdout"
        }
      ]
    },
    {
      "cell_type": "code",
      "metadata": {
        "id": "Mt3jbMMaRt1D"
      },
      "source": [
        "reverse_art_index=article_tokenizer.index_word\n",
        "reverse_sum_index=summary_tokenizer.index_word\n",
        "sum_wordindex=summary_tokenizer.word_index"
      ],
      "execution_count": null,
      "outputs": []
    },
    {
      "cell_type": "code",
      "metadata": {
        "id": "M1mEbqlvRyoK",
        "colab": {
          "base_uri": "https://localhost:8080/"
        },
        "outputId": "bb040382-f6b8-466a-9540-c6f304b9df7d"
      },
      "source": [
        "encoder_inputs=Input(shape=(max_art_len,))\n",
        "encoder_emb=Embedding(art_vocab_size,100,trainable=True,name='Encoder_Embedding_layer')(encoder_inputs)\n",
        "encoder_lstm1=LSTM(300,return_sequences=True,return_state=True,name='Encoder_LSTM1')\n",
        "enclstm1_outputs,enclstm1_h,enclstm1_c=encoder_lstm1(encoder_emb)\n",
        "\n",
        "\n",
        "decoder_inputs=Input(shape=(None,))\n",
        "decoder_em=Embedding(sum_vocab_size,100,trainable=True,name='Decoder_Embedding_layer')\n",
        "decoder_emb=decoder_em(decoder_inputs)\n",
        "\n",
        "decoder_lstm1=LSTM(300,return_sequences=True,return_state=True,name='Decoder_LSTM1')\n",
        "declstm1_output,declstm1_h,declstm1_c=decoder_lstm1(decoder_emb,initial_state=[enclstm1_h,enclstm1_c])\n",
        "\n",
        "output_layer=TimeDistributed(Dense(sum_vocab_size,activation='softmax',name='softmax'))\n",
        "output=output_layer(declstm1_output)\n",
        "\n",
        "model=Model([encoder_inputs,decoder_inputs],output)\n",
        "\n",
        "model.summary()"
      ],
      "execution_count": null,
      "outputs": [
        {
          "output_type": "stream",
          "text": [
            "Model: \"model_10\"\n",
            "__________________________________________________________________________________________________\n",
            "Layer (type)                    Output Shape         Param #     Connected to                     \n",
            "==================================================================================================\n",
            "input_9 (InputLayer)            [(None, 500)]        0                                            \n",
            "__________________________________________________________________________________________________\n",
            "input_10 (InputLayer)           [(None, None)]       0                                            \n",
            "__________________________________________________________________________________________________\n",
            "Encoder_Embedding_layer (Embedd (None, 500, 100)     2124900     input_9[0][0]                    \n",
            "__________________________________________________________________________________________________\n",
            "Decoder_Embedding_layer (Embedd (None, None, 100)    1389500     input_10[0][0]                   \n",
            "__________________________________________________________________________________________________\n",
            "Encoder_LSTM1 (LSTM)            [(None, 500, 300), ( 481200      Encoder_Embedding_layer[0][0]    \n",
            "__________________________________________________________________________________________________\n",
            "Decoder_LSTM1 (LSTM)            [(None, None, 300),  481200      Decoder_Embedding_layer[0][0]    \n",
            "                                                                 Encoder_LSTM1[0][1]              \n",
            "                                                                 Encoder_LSTM1[0][2]              \n",
            "__________________________________________________________________________________________________\n",
            "time_distributed_4 (TimeDistrib (None, None, 13895)  4182395     Decoder_LSTM1[0][0]              \n",
            "==================================================================================================\n",
            "Total params: 8,659,195\n",
            "Trainable params: 8,659,195\n",
            "Non-trainable params: 0\n",
            "__________________________________________________________________________________________________\n"
          ],
          "name": "stdout"
        }
      ]
    },
    {
      "cell_type": "code",
      "metadata": {
        "id": "1GU0wv_eR8Hj",
        "colab": {
          "base_uri": "https://localhost:8080/",
          "height": 453
        },
        "outputId": "641eabfc-2af7-4657-816f-cb9a46e3b0b8"
      },
      "source": [
        "plot_model(model,show_shapes=True)"
      ],
      "execution_count": null,
      "outputs": [
        {
          "output_type": "execute_result",
          "data": {
            "image/png": "[encoded data removed]",
            "text/plain": [
              "<IPython.core.display.Image object>"
            ]
          },
          "metadata": {
            "tags": []
          },
          "execution_count": 147
        }
      ]
    },
    {
      "cell_type": "code",
      "metadata": {
        "id": "PelCQmUJSOU_"
      },
      "source": [
        "model.compile(optimizer='Adam',loss='sparse_categorical_crossentropy')"
      ],
      "execution_count": null,
      "outputs": []
    },
    {
      "cell_type": "code",
      "metadata": {
        "id": "djXh5-ZZSU1M",
        "colab": {
          "base_uri": "https://localhost:8080/"
        },
        "outputId": "6b41be34-f80c-4749-8b99-3cd85f353010"
      },
      "source": [
        "model.fit([padded_X_train,padded_Y_train[:,:-1]],padded_Y_train[:,1:],\n",
        "          epochs=1,\n",
        "          validation_data=([padded_X_val,padded_Y_val[:,:-1]],padded_Y_val[:,1:]),\n",
        "          batch_size=64)"
      ],
      "execution_count": null,
      "outputs": [
        {
          "output_type": "stream",
          "text": [
            "Train on 1557 samples, validate on 668 samples\n",
            "1557/1557 [==============================] - 253s 163ms/sample - loss: 8.1762 - val_loss: 6.8370\n"
          ],
          "name": "stdout"
        },
        {
          "output_type": "execute_result",
          "data": {
            "text/plain": [
              "<tensorflow.python.keras.callbacks.History at 0x7fb518ae1470>"
            ]
          },
          "metadata": {
            "tags": []
          },
          "execution_count": 149
        }
      ]
    },
    {
      "cell_type": "code",
      "metadata": {
        "id": "oOEmkjvXSddT"
      },
      "source": [
        "infencoder_model=Model(inputs=[encoder_inputs],outputs=[enclstm1_outputs,enclstm1_h,enclstm1_c])\n",
        "\n",
        "infdecoder_model_state_input_h=Input(shape=(300,),name='infdec_I1')\n",
        "infdecoder_model_state_input_c=Input(shape=(300,),name='infdec_I2')\n",
        "\n",
        "infdeclstm1_output,infdec_h,infdec_c=decoder_lstm1(decoder_emb,initial_state=[infdecoder_model_state_input_h,\n",
        "                                                                                                infdecoder_model_state_input_c\n",
        "                                                                                               ])\n",
        "\n",
        "infdec_output=output_layer(infdeclstm1_output)                         \n",
        "\n",
        "infdecoder_model=Model(inputs=[decoder_inputs]+[infdecoder_model_state_input_h,infdecoder_model_state_input_c],\n",
        "                       outputs=[infdec_output]+[infdec_h,infdec_c])"
      ],
      "execution_count": null,
      "outputs": []
    },
    {
      "cell_type": "code",
      "metadata": {
        "id": "1CMyQjUoSrL-",
        "colab": {
          "base_uri": "https://localhost:8080/"
        },
        "outputId": "feb37266-4c3b-4aa5-d5e3-58ed20ecfd1f"
      },
      "source": [
        "infencoder_model.summary()"
      ],
      "execution_count": null,
      "outputs": [
        {
          "output_type": "stream",
          "text": [
            "Model: \"model_11\"\n",
            "_________________________________________________________________\n",
            "Layer (type)                 Output Shape              Param #   \n",
            "=================================================================\n",
            "input_9 (InputLayer)         [(None, 500)]             0         \n",
            "_________________________________________________________________\n",
            "Encoder_Embedding_layer (Emb (None, 500, 100)          2124900   \n",
            "_________________________________________________________________\n",
            "Encoder_LSTM1 (LSTM)         [(None, 500, 300), (None, 481200    \n",
            "=================================================================\n",
            "Total params: 2,606,100\n",
            "Trainable params: 2,606,100\n",
            "Non-trainable params: 0\n",
            "_________________________________________________________________\n"
          ],
          "name": "stdout"
        }
      ]
    },
    {
      "cell_type": "code",
      "metadata": {
        "id": "zXwor2AbSwBb",
        "colab": {
          "base_uri": "https://localhost:8080/",
          "height": 312
        },
        "outputId": "742c7a5b-452f-44bb-caf5-adc784d8a93b"
      },
      "source": [
        "plot_model(infencoder_model,show_shapes=True)"
      ],
      "execution_count": null,
      "outputs": [
        {
          "output_type": "execute_result",
          "data": {
            "image/png": "[encoded data removed]",
            "text/plain": [
              "<IPython.core.display.Image object>"
            ]
          },
          "metadata": {
            "tags": []
          },
          "execution_count": 152
        }
      ]
    },
    {
      "cell_type": "code",
      "metadata": {
        "id": "bSoscx-qS3ST",
        "colab": {
          "base_uri": "https://localhost:8080/"
        },
        "outputId": "61897775-6b30-42e4-fcef-6ca2fd097af3"
      },
      "source": [
        "infdecoder_model.summary()"
      ],
      "execution_count": null,
      "outputs": [
        {
          "output_type": "stream",
          "text": [
            "Model: \"model_12\"\n",
            "__________________________________________________________________________________________________\n",
            "Layer (type)                    Output Shape         Param #     Connected to                     \n",
            "==================================================================================================\n",
            "input_10 (InputLayer)           [(None, None)]       0                                            \n",
            "__________________________________________________________________________________________________\n",
            "Decoder_Embedding_layer (Embedd (None, None, 100)    1389500     input_10[0][0]                   \n",
            "__________________________________________________________________________________________________\n",
            "infdec_I1 (InputLayer)          [(None, 300)]        0                                            \n",
            "__________________________________________________________________________________________________\n",
            "infdec_I2 (InputLayer)          [(None, 300)]        0                                            \n",
            "__________________________________________________________________________________________________\n",
            "Decoder_LSTM1 (LSTM)            [(None, None, 300),  481200      Decoder_Embedding_layer[0][0]    \n",
            "                                                                 infdec_I1[0][0]                  \n",
            "                                                                 infdec_I2[0][0]                  \n",
            "__________________________________________________________________________________________________\n",
            "time_distributed_4 (TimeDistrib (None, None, 13895)  4182395     Decoder_LSTM1[1][0]              \n",
            "==================================================================================================\n",
            "Total params: 6,053,095\n",
            "Trainable params: 6,053,095\n",
            "Non-trainable params: 0\n",
            "__________________________________________________________________________________________________\n"
          ],
          "name": "stdout"
        }
      ]
    },
    {
      "cell_type": "code",
      "metadata": {
        "id": "bmqR_xa1S84B",
        "colab": {
          "base_uri": "https://localhost:8080/",
          "height": 312
        },
        "outputId": "ad24cc8d-ebb9-416b-e11a-f115a56614ad"
      },
      "source": [
        "plot_model(infdecoder_model,show_shapes=True)"
      ],
      "execution_count": null,
      "outputs": [
        {
          "output_type": "execute_result",
          "data": {
            "image/png": "[encoded data removed]",
            "text/plain": [
              "<IPython.core.display.Image object>"
            ]
          },
          "metadata": {
            "tags": []
          },
          "execution_count": 154
        }
      ]
    },
    {
      "cell_type": "code",
      "metadata": {
        "id": "vfuc372PTEdj"
      },
      "source": [
        "def decode_sequence(inp_seq):\n",
        "    \n",
        "    enc_out,enc_h,enc_c=infencoder_model.predict(inp_seq)\n",
        "    \n",
        "    tar_seq=np.zeros((1,1))\n",
        "    tar_seq[0,0]=sum_wordindex['start']\n",
        "    \n",
        "    stop_loop=False\n",
        "    decoded_string=''\n",
        "    \n",
        "    while not stop_loop:\n",
        "       \n",
        "        dec_out,dec_h,dec_c=infdecoder_model.predict([tar_seq]+[enc_h,enc_c])\n",
        "        \n",
        "        tar_token_index=np.argmax(dec_out[0,-1,:])\n",
        "        tar_token_word=sum_wordindex[tar_token_index]\n",
        "        \n",
        "        if tar_token_word =='end' or len(decoded_string)>=max_art_len:\n",
        "            \n",
        "            stop_loop=True\n",
        "        else:\n",
        "            decoded_string+=tar_token_word\n",
        "            \n",
        "            tar_seq=np.zeros((1,1))\n",
        "            tar_seq[0,0]=tar_token_index\n",
        "            \n",
        "            \n",
        "            enc_h=dec_h\n",
        "            enc_c=dec_c\n",
        "            \n",
        "    return decoded_string"
      ],
      "execution_count": null,
      "outputs": []
    },
    {
      "cell_type": "code",
      "metadata": {
        "id": "zDKI6erqTLv3"
      },
      "source": [
        "def seq2art(inp_seq):\n",
        "    \n",
        "    art=''\n",
        "    \n",
        "    for i in range(len(inp_seq)):\n",
        "        \n",
        "        if inp_seq[i]==0:\n",
        "            break\n",
        "        art+=reverse_art_index[inp_seq[i]]+' '\n",
        "        \n",
        "    return art\n",
        "\n",
        "\n",
        "def seq2sum(inp_seq):\n",
        "    \n",
        "    summary=''\n",
        "    \n",
        "    for i in range(len(inp_seq)):\n",
        "        \n",
        "        if inp_seq[i]==0:\n",
        "            break\n",
        "        word=reverse_sum_index[inp_seq[i]]\n",
        "        summary+=word+' '\n",
        "            \n",
        "    return summary"
      ],
      "execution_count": null,
      "outputs": []
    },
    {
      "cell_type": "code",
      "metadata": {
        "id": "io1O-ElzIUui"
      },
      "source": [
        ""
      ],
      "execution_count": null,
      "outputs": []
    },
    {
      "cell_type": "code",
      "metadata": {
        "id": "ZfoQs31nTQgr",
        "colab": {
          "base_uri": "https://localhost:8080/",
          "height": 129
        },
        "outputId": "ea5cb67d-5564-4e50-f06e-1f6a61ab999f"
      },
      "source": [
        "print('Example Articel : '+'\\n',seq2art(padded_X_val[2]))\n",
        "print('Example Summary : '+'\\n',seq2sum(padded_Y_val[2]))\n",
        "print('Predicted Summary : '+'\\n',decode_sequence(padded_X_val[2])"
      ],
      "execution_count": null,
      "outputs": [
        {
          "output_type": "error",
          "ename": "SyntaxError",
          "evalue": "ignored",
          "traceback": [
            "\u001b[0;36m  File \u001b[0;32m\"<ipython-input-157-864e374530b5>\"\u001b[0;36m, line \u001b[0;32m3\u001b[0m\n\u001b[0;31m    print('Predicted Summary : '+'\\n',decode_sequence(padded_X_val[2])\u001b[0m\n\u001b[0m                                                                      ^\u001b[0m\n\u001b[0;31mSyntaxError\u001b[0m\u001b[0;31m:\u001b[0m unexpected EOF while parsing\n"
          ]
        }
      ]
    },
    {
      "cell_type": "code",
      "metadata": {
        "id": "cw8JnRYyTqbD"
      },
      "source": [
        ""
      ],
      "execution_count": null,
      "outputs": []
    }
  ]
}