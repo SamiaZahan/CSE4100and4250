{
  "nbformat": 4,
  "nbformat_minor": 0,
  "metadata": {
    "colab": {
      "name": "Ext_Summ.ipynb",
      "provenance": [],
      "toc_visible": true,
      "authorship_tag": "ABX9TyNoJW6lFkKCO88v/aoAo5V7",
      "include_colab_link": true
    },
    "kernelspec": {
      "display_name": "Python 3",
      "name": "python3"
    }
  },
  "cells": [
    {
      "cell_type": "markdown",
      "metadata": {
        "id": "view-in-github",
        "colab_type": "text"
      },
      "source": [
        "<a href=\"https://colab.research.google.com/github/nowshad7/CSE4100and4250/blob/main/Ext_Summ.ipynb\" target=\"_parent\"><img src=\"https://colab.research.google.com/assets/colab-badge.svg\" alt=\"Open In Colab\"/></a>"
      ]
    },
    {
      "cell_type": "markdown",
      "metadata": {
        "id": "HAmHR34O6LvX"
      },
      "source": [
        "#Data"
      ]
    },
    {
      "cell_type": "code",
      "metadata": {
        "id": "nKve2T1ig2kk",
        "colab": {
          "base_uri": "https://localhost:8080/"
        },
        "outputId": "52d9f544-833b-4d58-bcad-918348572281"
      },
      "source": [
        "import numpy as np\n",
        "import pandas as pd\n",
        "import re\n",
        "import nltk\n",
        "from nltk.corpus import stopwords\n",
        "from nltk.stem import WordNetLemmatizer\n",
        "from sklearn.feature_extraction.text import CountVectorizer\n",
        "from sklearn.feature_extraction.text import TfidfTransformer\n",
        "from sklearn.cluster import KMeans\n",
        "import matplotlib.pyplot as plt\n",
        "#import rouge\n",
        "from yellowbrick.cluster import KElbowVisualizer\n",
        "nltk.download('punkt')"
      ],
      "execution_count": null,
      "outputs": [
        {
          "output_type": "stream",
          "text": [
            "[nltk_data] Downloading package punkt to /root/nltk_data...\n",
            "[nltk_data]   Package punkt is already up-to-date!\n"
          ],
          "name": "stdout"
        },
        {
          "output_type": "execute_result",
          "data": {
            "text/plain": [
              "True"
            ]
          },
          "metadata": {
            "tags": []
          },
          "execution_count": 17
        }
      ]
    },
    {
      "cell_type": "code",
      "metadata": {
        "id": "7QvgG6FshCIj",
        "colab": {
          "base_uri": "https://localhost:8080/"
        },
        "outputId": "749ee237-e39e-471e-beac-90fed0facba1"
      },
      "source": [
        "from google.colab import drive\n",
        "drive.mount('/content/drive')"
      ],
      "execution_count": null,
      "outputs": [
        {
          "output_type": "stream",
          "text": [
            "Drive already mounted at /content/drive; to attempt to forcibly remount, call drive.mount(\"/content/drive\", force_remount=True).\n"
          ],
          "name": "stdout"
        }
      ]
    },
    {
      "cell_type": "code",
      "metadata": {
        "id": "VW22vyxDhxQI",
        "colab": {
          "base_uri": "https://localhost:8080/"
        },
        "outputId": "83dc149a-1628-413e-ebc9-6731fd771b17"
      },
      "source": [
        "cd /content/drive/My Drive/Ex_Summ/Data/entertainment"
      ],
      "execution_count": null,
      "outputs": [
        {
          "output_type": "stream",
          "text": [
            "/content/drive/My Drive/Ex_Summ/Data/entertainment\n"
          ],
          "name": "stdout"
        }
      ]
    },
    {
      "cell_type": "code",
      "metadata": {
        "id": "v-hcaNEQjTB2",
        "colab": {
          "base_uri": "https://localhost:8080/"
        },
        "outputId": "ec91e600-9e7e-4d5a-8edd-bb6c20110682"
      },
      "source": [
        "filename=input(\"Enter File Name: \")  \n",
        "news = open(filename,\"r\")\n",
        "text = news.read()"
      ],
      "execution_count": null,
      "outputs": [
        {
          "output_type": "stream",
          "text": [
            "Enter File Name: 006.txt\n"
          ],
          "name": "stdout"
        }
      ]
    },
    {
      "cell_type": "code",
      "metadata": {
        "id": "WMkvNLy0nxor",
        "colab": {
          "base_uri": "https://localhost:8080/"
        },
        "outputId": "179f98f7-4d56-4e34-d403-39b588d3a9d4"
      },
      "source": [
        "sentences = nltk.sent_tokenize(text)\n",
        "sentences"
      ],
      "execution_count": null,
      "outputs": [
        {
          "output_type": "execute_result",
          "data": {
            "text/plain": [
              "[\"Bennett play takes theatre prizes\\n\\nThe History Boys by Alan Bennett has been named best new play in the Critics' Circle Theatre Awards.\",\n",
              " 'Set in a grammar school, the play also earned a best actor prize for star Richard Griffiths as teacher Hector.',\n",
              " \"The Producers was named best musical, Victoria Hamilton was best actress for Suddenly Last Summer and Festen's Rufus Norris was named best director.\",\n",
              " \"The History Boys also won the best new comedy title at the Theatregoers' Choice Awards.\",\n",
              " \"Partly based upon Alan Bennett's experience as a teacher, The History Boys has been at London's National Theatre since last May.\",\n",
              " \"The Critics' Circle named Rebecca Lenkiewicz its most promising playwright for The Night Season, and Eddie Redmayne most promising newcomer for The Goat or, Who is Sylvia?\",\n",
              " 'Paul Rhys was its best Shakespearean performer for Measure for Measure at the National Theatre and Christopher Oram won the design award for Suddenly Last Summer.',\n",
              " \"Both the Critics' Circle and Whatsonstage.com Theatregoers' Choice award winners were announced on Tuesday.\",\n",
              " \"Chosen by more than 11,000 theatre fans, the Theatregoers' Choice Awards named US actor Christian Slater best actor for One Flew Over the Cuckoo's Nest.\",\n",
              " \"Diana Rigg was best actress for Suddenly Last Summer, Dame Judi Dench was best supporting actress for the RSC's All's Well That Ends Well and The History Boys' Samuel Barnett was best supporting actor.\"]"
            ]
          },
          "metadata": {
            "tags": []
          },
          "execution_count": 80
        }
      ]
    },
    {
      "cell_type": "code",
      "metadata": {
        "id": "ToqHOPEIvWGA",
        "colab": {
          "base_uri": "https://localhost:8080/"
        },
        "outputId": "35759375-c8c6-4652-df28-a67eb137f47d"
      },
      "source": [
        "art_size = len(sentences)\n",
        "print(art_size)"
      ],
      "execution_count": null,
      "outputs": [
        {
          "output_type": "stream",
          "text": [
            "10\n"
          ],
          "name": "stdout"
        }
      ]
    },
    {
      "cell_type": "markdown",
      "metadata": {
        "id": "wIa2cvhy6Sjo"
      },
      "source": [
        "#BERT Word  Embedinnings"
      ]
    },
    {
      "cell_type": "code",
      "metadata": {
        "id": "C7vk6TrXvlz2",
        "colab": {
          "base_uri": "https://localhost:8080/"
        },
        "outputId": "6a5374cd-5b02-4540-9577-94d61062d379"
      },
      "source": [
        "!pip install transformers"
      ],
      "execution_count": null,
      "outputs": [
        {
          "output_type": "stream",
          "text": [
            "Requirement already satisfied: transformers in /usr/local/lib/python3.6/dist-packages (3.5.1)\n",
            "Requirement already satisfied: filelock in /usr/local/lib/python3.6/dist-packages (from transformers) (3.0.12)\n",
            "Requirement already satisfied: sentencepiece==0.1.91 in /usr/local/lib/python3.6/dist-packages (from transformers) (0.1.91)\n",
            "Requirement already satisfied: tokenizers==0.9.3 in /usr/local/lib/python3.6/dist-packages (from transformers) (0.9.3)\n",
            "Requirement already satisfied: dataclasses; python_version < \"3.7\" in /usr/local/lib/python3.6/dist-packages (from transformers) (0.8)\n",
            "Requirement already satisfied: tqdm>=4.27 in /usr/local/lib/python3.6/dist-packages (from transformers) (4.41.1)\n",
            "Requirement already satisfied: packaging in /usr/local/lib/python3.6/dist-packages (from transformers) (20.4)\n",
            "Requirement already satisfied: requests in /usr/local/lib/python3.6/dist-packages (from transformers) (2.23.0)\n",
            "Requirement already satisfied: regex!=2019.12.17 in /usr/local/lib/python3.6/dist-packages (from transformers) (2019.12.20)\n",
            "Requirement already satisfied: protobuf in /usr/local/lib/python3.6/dist-packages (from transformers) (3.12.4)\n",
            "Requirement already satisfied: numpy in /usr/local/lib/python3.6/dist-packages (from transformers) (1.18.5)\n",
            "Requirement already satisfied: sacremoses in /usr/local/lib/python3.6/dist-packages (from transformers) (0.0.43)\n",
            "Requirement already satisfied: pyparsing>=2.0.2 in /usr/local/lib/python3.6/dist-packages (from packaging->transformers) (2.4.7)\n",
            "Requirement already satisfied: six in /usr/local/lib/python3.6/dist-packages (from packaging->transformers) (1.15.0)\n",
            "Requirement already satisfied: chardet<4,>=3.0.2 in /usr/local/lib/python3.6/dist-packages (from requests->transformers) (3.0.4)\n",
            "Requirement already satisfied: idna<3,>=2.5 in /usr/local/lib/python3.6/dist-packages (from requests->transformers) (2.10)\n",
            "Requirement already satisfied: certifi>=2017.4.17 in /usr/local/lib/python3.6/dist-packages (from requests->transformers) (2020.11.8)\n",
            "Requirement already satisfied: urllib3!=1.25.0,!=1.25.1,<1.26,>=1.21.1 in /usr/local/lib/python3.6/dist-packages (from requests->transformers) (1.24.3)\n",
            "Requirement already satisfied: setuptools in /usr/local/lib/python3.6/dist-packages (from protobuf->transformers) (50.3.2)\n",
            "Requirement already satisfied: joblib in /usr/local/lib/python3.6/dist-packages (from sacremoses->transformers) (0.17.0)\n",
            "Requirement already satisfied: click in /usr/local/lib/python3.6/dist-packages (from sacremoses->transformers) (7.1.2)\n"
          ],
          "name": "stdout"
        }
      ]
    },
    {
      "cell_type": "code",
      "metadata": {
        "id": "Z1IGsPq16Jai"
      },
      "source": [
        "import torch\n",
        "from transformers import BertTokenizer, BertModel\n",
        "import logging\n",
        "import matplotlib.pyplot as plt\n",
        "% matplotlib inline\n",
        "tokenizer = BertTokenizer.from_pretrained('bert-base-uncased')"
      ],
      "execution_count": null,
      "outputs": []
    },
    {
      "cell_type": "code",
      "metadata": {
        "id": "dHzmI1nJ8Ip9",
        "colab": {
          "base_uri": "https://localhost:8080/"
        },
        "outputId": "00034be8-1b67-4010-866f-94ede0ebd984"
      },
      "source": [
        "# Load pre-trained model (weights)\n",
        "model = BertModel.from_pretrained('bert-base-uncased',\n",
        "                                  output_hidden_states = True, # Whether the model returns all hidden-states.\n",
        "                                  )\n",
        "\n",
        "# Put the model in \"evaluation\" mode, meaning feed-forward operation.\n",
        "model.eval()"
      ],
      "execution_count": null,
      "outputs": [
        {
          "output_type": "execute_result",
          "data": {
            "text/plain": [
              "BertModel(\n",
              "  (embeddings): BertEmbeddings(\n",
              "    (word_embeddings): Embedding(30522, 768, padding_idx=0)\n",
              "    (position_embeddings): Embedding(512, 768)\n",
              "    (token_type_embeddings): Embedding(2, 768)\n",
              "    (LayerNorm): LayerNorm((768,), eps=1e-12, elementwise_affine=True)\n",
              "    (dropout): Dropout(p=0.1, inplace=False)\n",
              "  )\n",
              "  (encoder): BertEncoder(\n",
              "    (layer): ModuleList(\n",
              "      (0): BertLayer(\n",
              "        (attention): BertAttention(\n",
              "          (self): BertSelfAttention(\n",
              "            (query): Linear(in_features=768, out_features=768, bias=True)\n",
              "            (key): Linear(in_features=768, out_features=768, bias=True)\n",
              "            (value): Linear(in_features=768, out_features=768, bias=True)\n",
              "            (dropout): Dropout(p=0.1, inplace=False)\n",
              "          )\n",
              "          (output): BertSelfOutput(\n",
              "            (dense): Linear(in_features=768, out_features=768, bias=True)\n",
              "            (LayerNorm): LayerNorm((768,), eps=1e-12, elementwise_affine=True)\n",
              "            (dropout): Dropout(p=0.1, inplace=False)\n",
              "          )\n",
              "        )\n",
              "        (intermediate): BertIntermediate(\n",
              "          (dense): Linear(in_features=768, out_features=3072, bias=True)\n",
              "        )\n",
              "        (output): BertOutput(\n",
              "          (dense): Linear(in_features=3072, out_features=768, bias=True)\n",
              "          (LayerNorm): LayerNorm((768,), eps=1e-12, elementwise_affine=True)\n",
              "          (dropout): Dropout(p=0.1, inplace=False)\n",
              "        )\n",
              "      )\n",
              "      (1): BertLayer(\n",
              "        (attention): BertAttention(\n",
              "          (self): BertSelfAttention(\n",
              "            (query): Linear(in_features=768, out_features=768, bias=True)\n",
              "            (key): Linear(in_features=768, out_features=768, bias=True)\n",
              "            (value): Linear(in_features=768, out_features=768, bias=True)\n",
              "            (dropout): Dropout(p=0.1, inplace=False)\n",
              "          )\n",
              "          (output): BertSelfOutput(\n",
              "            (dense): Linear(in_features=768, out_features=768, bias=True)\n",
              "            (LayerNorm): LayerNorm((768,), eps=1e-12, elementwise_affine=True)\n",
              "            (dropout): Dropout(p=0.1, inplace=False)\n",
              "          )\n",
              "        )\n",
              "        (intermediate): BertIntermediate(\n",
              "          (dense): Linear(in_features=768, out_features=3072, bias=True)\n",
              "        )\n",
              "        (output): BertOutput(\n",
              "          (dense): Linear(in_features=3072, out_features=768, bias=True)\n",
              "          (LayerNorm): LayerNorm((768,), eps=1e-12, elementwise_affine=True)\n",
              "          (dropout): Dropout(p=0.1, inplace=False)\n",
              "        )\n",
              "      )\n",
              "      (2): BertLayer(\n",
              "        (attention): BertAttention(\n",
              "          (self): BertSelfAttention(\n",
              "            (query): Linear(in_features=768, out_features=768, bias=True)\n",
              "            (key): Linear(in_features=768, out_features=768, bias=True)\n",
              "            (value): Linear(in_features=768, out_features=768, bias=True)\n",
              "            (dropout): Dropout(p=0.1, inplace=False)\n",
              "          )\n",
              "          (output): BertSelfOutput(\n",
              "            (dense): Linear(in_features=768, out_features=768, bias=True)\n",
              "            (LayerNorm): LayerNorm((768,), eps=1e-12, elementwise_affine=True)\n",
              "            (dropout): Dropout(p=0.1, inplace=False)\n",
              "          )\n",
              "        )\n",
              "        (intermediate): BertIntermediate(\n",
              "          (dense): Linear(in_features=768, out_features=3072, bias=True)\n",
              "        )\n",
              "        (output): BertOutput(\n",
              "          (dense): Linear(in_features=3072, out_features=768, bias=True)\n",
              "          (LayerNorm): LayerNorm((768,), eps=1e-12, elementwise_affine=True)\n",
              "          (dropout): Dropout(p=0.1, inplace=False)\n",
              "        )\n",
              "      )\n",
              "      (3): BertLayer(\n",
              "        (attention): BertAttention(\n",
              "          (self): BertSelfAttention(\n",
              "            (query): Linear(in_features=768, out_features=768, bias=True)\n",
              "            (key): Linear(in_features=768, out_features=768, bias=True)\n",
              "            (value): Linear(in_features=768, out_features=768, bias=True)\n",
              "            (dropout): Dropout(p=0.1, inplace=False)\n",
              "          )\n",
              "          (output): BertSelfOutput(\n",
              "            (dense): Linear(in_features=768, out_features=768, bias=True)\n",
              "            (LayerNorm): LayerNorm((768,), eps=1e-12, elementwise_affine=True)\n",
              "            (dropout): Dropout(p=0.1, inplace=False)\n",
              "          )\n",
              "        )\n",
              "        (intermediate): BertIntermediate(\n",
              "          (dense): Linear(in_features=768, out_features=3072, bias=True)\n",
              "        )\n",
              "        (output): BertOutput(\n",
              "          (dense): Linear(in_features=3072, out_features=768, bias=True)\n",
              "          (LayerNorm): LayerNorm((768,), eps=1e-12, elementwise_affine=True)\n",
              "          (dropout): Dropout(p=0.1, inplace=False)\n",
              "        )\n",
              "      )\n",
              "      (4): BertLayer(\n",
              "        (attention): BertAttention(\n",
              "          (self): BertSelfAttention(\n",
              "            (query): Linear(in_features=768, out_features=768, bias=True)\n",
              "            (key): Linear(in_features=768, out_features=768, bias=True)\n",
              "            (value): Linear(in_features=768, out_features=768, bias=True)\n",
              "            (dropout): Dropout(p=0.1, inplace=False)\n",
              "          )\n",
              "          (output): BertSelfOutput(\n",
              "            (dense): Linear(in_features=768, out_features=768, bias=True)\n",
              "            (LayerNorm): LayerNorm((768,), eps=1e-12, elementwise_affine=True)\n",
              "            (dropout): Dropout(p=0.1, inplace=False)\n",
              "          )\n",
              "        )\n",
              "        (intermediate): BertIntermediate(\n",
              "          (dense): Linear(in_features=768, out_features=3072, bias=True)\n",
              "        )\n",
              "        (output): BertOutput(\n",
              "          (dense): Linear(in_features=3072, out_features=768, bias=True)\n",
              "          (LayerNorm): LayerNorm((768,), eps=1e-12, elementwise_affine=True)\n",
              "          (dropout): Dropout(p=0.1, inplace=False)\n",
              "        )\n",
              "      )\n",
              "      (5): BertLayer(\n",
              "        (attention): BertAttention(\n",
              "          (self): BertSelfAttention(\n",
              "            (query): Linear(in_features=768, out_features=768, bias=True)\n",
              "            (key): Linear(in_features=768, out_features=768, bias=True)\n",
              "            (value): Linear(in_features=768, out_features=768, bias=True)\n",
              "            (dropout): Dropout(p=0.1, inplace=False)\n",
              "          )\n",
              "          (output): BertSelfOutput(\n",
              "            (dense): Linear(in_features=768, out_features=768, bias=True)\n",
              "            (LayerNorm): LayerNorm((768,), eps=1e-12, elementwise_affine=True)\n",
              "            (dropout): Dropout(p=0.1, inplace=False)\n",
              "          )\n",
              "        )\n",
              "        (intermediate): BertIntermediate(\n",
              "          (dense): Linear(in_features=768, out_features=3072, bias=True)\n",
              "        )\n",
              "        (output): BertOutput(\n",
              "          (dense): Linear(in_features=3072, out_features=768, bias=True)\n",
              "          (LayerNorm): LayerNorm((768,), eps=1e-12, elementwise_affine=True)\n",
              "          (dropout): Dropout(p=0.1, inplace=False)\n",
              "        )\n",
              "      )\n",
              "      (6): BertLayer(\n",
              "        (attention): BertAttention(\n",
              "          (self): BertSelfAttention(\n",
              "            (query): Linear(in_features=768, out_features=768, bias=True)\n",
              "            (key): Linear(in_features=768, out_features=768, bias=True)\n",
              "            (value): Linear(in_features=768, out_features=768, bias=True)\n",
              "            (dropout): Dropout(p=0.1, inplace=False)\n",
              "          )\n",
              "          (output): BertSelfOutput(\n",
              "            (dense): Linear(in_features=768, out_features=768, bias=True)\n",
              "            (LayerNorm): LayerNorm((768,), eps=1e-12, elementwise_affine=True)\n",
              "            (dropout): Dropout(p=0.1, inplace=False)\n",
              "          )\n",
              "        )\n",
              "        (intermediate): BertIntermediate(\n",
              "          (dense): Linear(in_features=768, out_features=3072, bias=True)\n",
              "        )\n",
              "        (output): BertOutput(\n",
              "          (dense): Linear(in_features=3072, out_features=768, bias=True)\n",
              "          (LayerNorm): LayerNorm((768,), eps=1e-12, elementwise_affine=True)\n",
              "          (dropout): Dropout(p=0.1, inplace=False)\n",
              "        )\n",
              "      )\n",
              "      (7): BertLayer(\n",
              "        (attention): BertAttention(\n",
              "          (self): BertSelfAttention(\n",
              "            (query): Linear(in_features=768, out_features=768, bias=True)\n",
              "            (key): Linear(in_features=768, out_features=768, bias=True)\n",
              "            (value): Linear(in_features=768, out_features=768, bias=True)\n",
              "            (dropout): Dropout(p=0.1, inplace=False)\n",
              "          )\n",
              "          (output): BertSelfOutput(\n",
              "            (dense): Linear(in_features=768, out_features=768, bias=True)\n",
              "            (LayerNorm): LayerNorm((768,), eps=1e-12, elementwise_affine=True)\n",
              "            (dropout): Dropout(p=0.1, inplace=False)\n",
              "          )\n",
              "        )\n",
              "        (intermediate): BertIntermediate(\n",
              "          (dense): Linear(in_features=768, out_features=3072, bias=True)\n",
              "        )\n",
              "        (output): BertOutput(\n",
              "          (dense): Linear(in_features=3072, out_features=768, bias=True)\n",
              "          (LayerNorm): LayerNorm((768,), eps=1e-12, elementwise_affine=True)\n",
              "          (dropout): Dropout(p=0.1, inplace=False)\n",
              "        )\n",
              "      )\n",
              "      (8): BertLayer(\n",
              "        (attention): BertAttention(\n",
              "          (self): BertSelfAttention(\n",
              "            (query): Linear(in_features=768, out_features=768, bias=True)\n",
              "            (key): Linear(in_features=768, out_features=768, bias=True)\n",
              "            (value): Linear(in_features=768, out_features=768, bias=True)\n",
              "            (dropout): Dropout(p=0.1, inplace=False)\n",
              "          )\n",
              "          (output): BertSelfOutput(\n",
              "            (dense): Linear(in_features=768, out_features=768, bias=True)\n",
              "            (LayerNorm): LayerNorm((768,), eps=1e-12, elementwise_affine=True)\n",
              "            (dropout): Dropout(p=0.1, inplace=False)\n",
              "          )\n",
              "        )\n",
              "        (intermediate): BertIntermediate(\n",
              "          (dense): Linear(in_features=768, out_features=3072, bias=True)\n",
              "        )\n",
              "        (output): BertOutput(\n",
              "          (dense): Linear(in_features=3072, out_features=768, bias=True)\n",
              "          (LayerNorm): LayerNorm((768,), eps=1e-12, elementwise_affine=True)\n",
              "          (dropout): Dropout(p=0.1, inplace=False)\n",
              "        )\n",
              "      )\n",
              "      (9): BertLayer(\n",
              "        (attention): BertAttention(\n",
              "          (self): BertSelfAttention(\n",
              "            (query): Linear(in_features=768, out_features=768, bias=True)\n",
              "            (key): Linear(in_features=768, out_features=768, bias=True)\n",
              "            (value): Linear(in_features=768, out_features=768, bias=True)\n",
              "            (dropout): Dropout(p=0.1, inplace=False)\n",
              "          )\n",
              "          (output): BertSelfOutput(\n",
              "            (dense): Linear(in_features=768, out_features=768, bias=True)\n",
              "            (LayerNorm): LayerNorm((768,), eps=1e-12, elementwise_affine=True)\n",
              "            (dropout): Dropout(p=0.1, inplace=False)\n",
              "          )\n",
              "        )\n",
              "        (intermediate): BertIntermediate(\n",
              "          (dense): Linear(in_features=768, out_features=3072, bias=True)\n",
              "        )\n",
              "        (output): BertOutput(\n",
              "          (dense): Linear(in_features=3072, out_features=768, bias=True)\n",
              "          (LayerNorm): LayerNorm((768,), eps=1e-12, elementwise_affine=True)\n",
              "          (dropout): Dropout(p=0.1, inplace=False)\n",
              "        )\n",
              "      )\n",
              "      (10): BertLayer(\n",
              "        (attention): BertAttention(\n",
              "          (self): BertSelfAttention(\n",
              "            (query): Linear(in_features=768, out_features=768, bias=True)\n",
              "            (key): Linear(in_features=768, out_features=768, bias=True)\n",
              "            (value): Linear(in_features=768, out_features=768, bias=True)\n",
              "            (dropout): Dropout(p=0.1, inplace=False)\n",
              "          )\n",
              "          (output): BertSelfOutput(\n",
              "            (dense): Linear(in_features=768, out_features=768, bias=True)\n",
              "            (LayerNorm): LayerNorm((768,), eps=1e-12, elementwise_affine=True)\n",
              "            (dropout): Dropout(p=0.1, inplace=False)\n",
              "          )\n",
              "        )\n",
              "        (intermediate): BertIntermediate(\n",
              "          (dense): Linear(in_features=768, out_features=3072, bias=True)\n",
              "        )\n",
              "        (output): BertOutput(\n",
              "          (dense): Linear(in_features=3072, out_features=768, bias=True)\n",
              "          (LayerNorm): LayerNorm((768,), eps=1e-12, elementwise_affine=True)\n",
              "          (dropout): Dropout(p=0.1, inplace=False)\n",
              "        )\n",
              "      )\n",
              "      (11): BertLayer(\n",
              "        (attention): BertAttention(\n",
              "          (self): BertSelfAttention(\n",
              "            (query): Linear(in_features=768, out_features=768, bias=True)\n",
              "            (key): Linear(in_features=768, out_features=768, bias=True)\n",
              "            (value): Linear(in_features=768, out_features=768, bias=True)\n",
              "            (dropout): Dropout(p=0.1, inplace=False)\n",
              "          )\n",
              "          (output): BertSelfOutput(\n",
              "            (dense): Linear(in_features=768, out_features=768, bias=True)\n",
              "            (LayerNorm): LayerNorm((768,), eps=1e-12, elementwise_affine=True)\n",
              "            (dropout): Dropout(p=0.1, inplace=False)\n",
              "          )\n",
              "        )\n",
              "        (intermediate): BertIntermediate(\n",
              "          (dense): Linear(in_features=768, out_features=3072, bias=True)\n",
              "        )\n",
              "        (output): BertOutput(\n",
              "          (dense): Linear(in_features=3072, out_features=768, bias=True)\n",
              "          (LayerNorm): LayerNorm((768,), eps=1e-12, elementwise_affine=True)\n",
              "          (dropout): Dropout(p=0.1, inplace=False)\n",
              "        )\n",
              "      )\n",
              "    )\n",
              "  )\n",
              "  (pooler): BertPooler(\n",
              "    (dense): Linear(in_features=768, out_features=768, bias=True)\n",
              "    (activation): Tanh()\n",
              "  )\n",
              ")"
            ]
          },
          "metadata": {
            "tags": []
          },
          "execution_count": 26
        }
      ]
    },
    {
      "cell_type": "code",
      "metadata": {
        "id": "Soo14-dB66tS"
      },
      "source": [
        "def BERT_emb(sentence):\n",
        "  marked_text = \"[CLS] \" + sentence + \" [SEP]\"\n",
        "  tokenized_text = tokenizer.tokenize(marked_text)\n",
        "  indexed_tokens = tokenizer.convert_tokens_to_ids(tokenized_text)\n",
        "  segments_ids = [1] * len(tokenized_text)\n",
        "  tokens_tensor = torch.tensor([indexed_tokens])\n",
        "  segments_tensors = torch.tensor([segments_ids])\n",
        "  with torch.no_grad():\n",
        "    outputs = model(tokens_tensor, segments_tensors)\n",
        "    hidden_states = outputs[2]\n",
        "  token_vecs = hidden_states[-2][0]\n",
        "  sentence_embedding = torch.mean(token_vecs, dim=0)\n",
        "  return sentence_embedding.numpy()"
      ],
      "execution_count": null,
      "outputs": []
    },
    {
      "cell_type": "code",
      "metadata": {
        "id": "NMuA0hGo7TLe",
        "colab": {
          "base_uri": "https://localhost:8080/"
        },
        "outputId": "3b07f693-7f02-47fc-cb1f-191ced09abd8"
      },
      "source": [
        "text = \"Gallery unveils interactive tree.\"\n",
        "emb = BERT_emb(text)\n",
        "emb[0]"
      ],
      "execution_count": null,
      "outputs": [
        {
          "output_type": "execute_result",
          "data": {
            "text/plain": [
              "-0.1361416"
            ]
          },
          "metadata": {
            "tags": []
          },
          "execution_count": 28
        }
      ]
    },
    {
      "cell_type": "code",
      "metadata": {
        "id": "PV9UeSAF88L_",
        "colab": {
          "base_uri": "https://localhost:8080/"
        },
        "outputId": "7f801fcb-8a64-4a2f-a630-65bb3fe9cf72"
      },
      "source": [
        "print (\"Our final sentence embedding vector of shape:\", len(emb))"
      ],
      "execution_count": null,
      "outputs": [
        {
          "output_type": "stream",
          "text": [
            "Our final sentence embedding vector of shape: 768\n"
          ],
          "name": "stdout"
        }
      ]
    },
    {
      "cell_type": "code",
      "metadata": {
        "id": "vBX_gxy79YIt",
        "colab": {
          "base_uri": "https://localhost:8080/"
        },
        "outputId": "d796883d-468c-47dc-def6-bd1faef3d75e"
      },
      "source": [
        "emb_Matrix = []\n",
        "for sentence in sentences:\n",
        "  emb = BERT_emb(sentence)\n",
        "  emb_Matrix.append(emb)\n",
        "print(len(emb_Matrix[0]))\n",
        "print(len(emb_Matrix))"
      ],
      "execution_count": null,
      "outputs": [
        {
          "output_type": "stream",
          "text": [
            "768\n",
            "13\n"
          ],
          "name": "stdout"
        }
      ]
    },
    {
      "cell_type": "markdown",
      "metadata": {
        "id": "RTxbEtnDZvvV"
      },
      "source": [
        "#Visualization"
      ]
    },
    {
      "cell_type": "code",
      "metadata": {
        "id": "WL8X_Ii_YdzN"
      },
      "source": [
        "from scipy.spatial.distance import pdist,squareform\n",
        "array_similarity = squareform(pdist(emb_Matrix, metric='euclidean'))"
      ],
      "execution_count": null,
      "outputs": []
    },
    {
      "cell_type": "code",
      "metadata": {
        "colab": {
          "base_uri": "https://localhost:8080/",
          "height": 298
        },
        "id": "_6hj5gddZQqX",
        "outputId": "15d8ac87-80ac-4638-b29c-9373cb70a170"
      },
      "source": [
        "import seaborn as sns\n",
        "import matplotlib.pyplot as plt\n",
        "\n",
        "sns.heatmap(array_similarity)\n",
        "plt.title('visualizing sentence semantic similarity')"
      ],
      "execution_count": null,
      "outputs": [
        {
          "output_type": "execute_result",
          "data": {
            "text/plain": [
              "Text(0.5, 1.0, 'visualizing sentence semantic similarity')"
            ]
          },
          "metadata": {
            "tags": []
          },
          "execution_count": 37
        },
        {
          "output_type": "display_data",
          "data": {
            "image/png": "[encoded data removed]",
            "text/plain": [
              "<Figure size 432x288 with 2 Axes>"
            ]
          },
          "metadata": {
            "tags": [],
            "needs_background": "light"
          }
        }
      ]
    },
    {
      "cell_type": "code",
      "metadata": {
        "colab": {
          "base_uri": "https://localhost:8080/",
          "height": 35
        },
        "id": "_uBf_iPwl5Ni",
        "outputId": "b8f90968-6e8f-46b8-a1b8-565e93d8fa67"
      },
      "source": [
        "plt.savefig('/content/drive/My Drive/Ex_Summ/Data/ss02.png')"
      ],
      "execution_count": null,
      "outputs": [
        {
          "output_type": "display_data",
          "data": {
            "text/plain": [
              "<Figure size 432x288 with 0 Axes>"
            ]
          },
          "metadata": {
            "tags": []
          }
        }
      ]
    },
    {
      "cell_type": "markdown",
      "metadata": {
        "id": "zWrXf-zervhE"
      },
      "source": [
        "#K-Means Clustering"
      ]
    },
    {
      "cell_type": "code",
      "metadata": {
        "id": "6ymShn5v-bYE"
      },
      "source": [
        "emb_sentences = pd.DataFrame(emb_Matrix)"
      ],
      "execution_count": null,
      "outputs": []
    },
    {
      "cell_type": "code",
      "metadata": {
        "id": "PTm943ScvJ7G",
        "colab": {
          "base_uri": "https://localhost:8080/",
          "height": 247
        },
        "outputId": "8ae59a20-95bb-4d3a-f4d9-c8eadce662b7"
      },
      "source": [
        "emb_sentences.head()"
      ],
      "execution_count": null,
      "outputs": [
        {
          "output_type": "execute_result",
          "data": {
            "text/html": [
              "<div>\n",
              "<style scoped>\n",
              "    .dataframe tbody tr th:only-of-type {\n",
              "        vertical-align: middle;\n",
              "    }\n",
              "\n",
              "    .dataframe tbody tr th {\n",
              "        vertical-align: top;\n",
              "    }\n",
              "\n",
              "    .dataframe thead th {\n",
              "        text-align: right;\n",
              "    }\n",
              "</style>\n",
              "<table border=\"1\" class=\"dataframe\">\n",
              "  <thead>\n",
              "    <tr style=\"text-align: right;\">\n",
              "      <th></th>\n",
              "      <th>0</th>\n",
              "      <th>1</th>\n",
              "      <th>2</th>\n",
              "      <th>3</th>\n",
              "      <th>4</th>\n",
              "      <th>5</th>\n",
              "      <th>6</th>\n",
              "      <th>7</th>\n",
              "      <th>8</th>\n",
              "      <th>9</th>\n",
              "      <th>10</th>\n",
              "      <th>11</th>\n",
              "      <th>12</th>\n",
              "      <th>13</th>\n",
              "      <th>14</th>\n",
              "      <th>15</th>\n",
              "      <th>16</th>\n",
              "      <th>17</th>\n",
              "      <th>18</th>\n",
              "      <th>19</th>\n",
              "      <th>20</th>\n",
              "      <th>21</th>\n",
              "      <th>22</th>\n",
              "      <th>23</th>\n",
              "      <th>24</th>\n",
              "      <th>25</th>\n",
              "      <th>26</th>\n",
              "      <th>27</th>\n",
              "      <th>28</th>\n",
              "      <th>29</th>\n",
              "      <th>30</th>\n",
              "      <th>31</th>\n",
              "      <th>32</th>\n",
              "      <th>33</th>\n",
              "      <th>34</th>\n",
              "      <th>35</th>\n",
              "      <th>36</th>\n",
              "      <th>37</th>\n",
              "      <th>38</th>\n",
              "      <th>39</th>\n",
              "      <th>...</th>\n",
              "      <th>728</th>\n",
              "      <th>729</th>\n",
              "      <th>730</th>\n",
              "      <th>731</th>\n",
              "      <th>732</th>\n",
              "      <th>733</th>\n",
              "      <th>734</th>\n",
              "      <th>735</th>\n",
              "      <th>736</th>\n",
              "      <th>737</th>\n",
              "      <th>738</th>\n",
              "      <th>739</th>\n",
              "      <th>740</th>\n",
              "      <th>741</th>\n",
              "      <th>742</th>\n",
              "      <th>743</th>\n",
              "      <th>744</th>\n",
              "      <th>745</th>\n",
              "      <th>746</th>\n",
              "      <th>747</th>\n",
              "      <th>748</th>\n",
              "      <th>749</th>\n",
              "      <th>750</th>\n",
              "      <th>751</th>\n",
              "      <th>752</th>\n",
              "      <th>753</th>\n",
              "      <th>754</th>\n",
              "      <th>755</th>\n",
              "      <th>756</th>\n",
              "      <th>757</th>\n",
              "      <th>758</th>\n",
              "      <th>759</th>\n",
              "      <th>760</th>\n",
              "      <th>761</th>\n",
              "      <th>762</th>\n",
              "      <th>763</th>\n",
              "      <th>764</th>\n",
              "      <th>765</th>\n",
              "      <th>766</th>\n",
              "      <th>767</th>\n",
              "    </tr>\n",
              "  </thead>\n",
              "  <tbody>\n",
              "    <tr>\n",
              "      <th>0</th>\n",
              "      <td>-0.092861</td>\n",
              "      <td>0.289360</td>\n",
              "      <td>0.529459</td>\n",
              "      <td>-0.272351</td>\n",
              "      <td>0.105511</td>\n",
              "      <td>-0.630268</td>\n",
              "      <td>0.082774</td>\n",
              "      <td>0.612766</td>\n",
              "      <td>-0.140225</td>\n",
              "      <td>0.170771</td>\n",
              "      <td>-0.004883</td>\n",
              "      <td>-0.408938</td>\n",
              "      <td>0.206396</td>\n",
              "      <td>0.240189</td>\n",
              "      <td>-0.121436</td>\n",
              "      <td>1.028580</td>\n",
              "      <td>0.243332</td>\n",
              "      <td>-0.176516</td>\n",
              "      <td>-0.501673</td>\n",
              "      <td>-0.015150</td>\n",
              "      <td>-0.412800</td>\n",
              "      <td>-0.040987</td>\n",
              "      <td>0.131995</td>\n",
              "      <td>0.403863</td>\n",
              "      <td>0.714378</td>\n",
              "      <td>0.230311</td>\n",
              "      <td>0.161532</td>\n",
              "      <td>0.323962</td>\n",
              "      <td>-0.462656</td>\n",
              "      <td>0.487841</td>\n",
              "      <td>0.043712</td>\n",
              "      <td>0.518551</td>\n",
              "      <td>0.186840</td>\n",
              "      <td>-0.325530</td>\n",
              "      <td>-0.355085</td>\n",
              "      <td>-0.255101</td>\n",
              "      <td>0.195814</td>\n",
              "      <td>-0.290515</td>\n",
              "      <td>0.486760</td>\n",
              "      <td>0.077024</td>\n",
              "      <td>...</td>\n",
              "      <td>-0.424800</td>\n",
              "      <td>-0.076060</td>\n",
              "      <td>0.372504</td>\n",
              "      <td>-0.506828</td>\n",
              "      <td>-0.319484</td>\n",
              "      <td>0.089474</td>\n",
              "      <td>0.284814</td>\n",
              "      <td>-0.247889</td>\n",
              "      <td>0.342928</td>\n",
              "      <td>0.033031</td>\n",
              "      <td>0.093457</td>\n",
              "      <td>0.178902</td>\n",
              "      <td>0.181042</td>\n",
              "      <td>-0.137303</td>\n",
              "      <td>0.137516</td>\n",
              "      <td>0.155810</td>\n",
              "      <td>0.253445</td>\n",
              "      <td>0.288979</td>\n",
              "      <td>-0.471299</td>\n",
              "      <td>-0.240966</td>\n",
              "      <td>-0.102444</td>\n",
              "      <td>0.538173</td>\n",
              "      <td>0.341834</td>\n",
              "      <td>-0.217870</td>\n",
              "      <td>0.449427</td>\n",
              "      <td>0.115187</td>\n",
              "      <td>-0.289077</td>\n",
              "      <td>0.412160</td>\n",
              "      <td>-0.270912</td>\n",
              "      <td>-0.637938</td>\n",
              "      <td>0.417861</td>\n",
              "      <td>-0.028469</td>\n",
              "      <td>-0.126023</td>\n",
              "      <td>0.239379</td>\n",
              "      <td>0.272736</td>\n",
              "      <td>0.054738</td>\n",
              "      <td>-0.206083</td>\n",
              "      <td>0.204702</td>\n",
              "      <td>-0.090258</td>\n",
              "      <td>-0.289373</td>\n",
              "    </tr>\n",
              "    <tr>\n",
              "      <th>1</th>\n",
              "      <td>-0.238248</td>\n",
              "      <td>-0.202231</td>\n",
              "      <td>0.760221</td>\n",
              "      <td>-0.426236</td>\n",
              "      <td>-0.194365</td>\n",
              "      <td>-0.926546</td>\n",
              "      <td>0.274211</td>\n",
              "      <td>0.493683</td>\n",
              "      <td>-0.439362</td>\n",
              "      <td>0.341577</td>\n",
              "      <td>-0.648607</td>\n",
              "      <td>-0.792832</td>\n",
              "      <td>0.074713</td>\n",
              "      <td>0.610636</td>\n",
              "      <td>-0.343662</td>\n",
              "      <td>0.347152</td>\n",
              "      <td>-0.002706</td>\n",
              "      <td>0.291262</td>\n",
              "      <td>0.001180</td>\n",
              "      <td>0.018902</td>\n",
              "      <td>-0.182146</td>\n",
              "      <td>-0.159217</td>\n",
              "      <td>0.479411</td>\n",
              "      <td>0.376630</td>\n",
              "      <td>0.513610</td>\n",
              "      <td>-0.308210</td>\n",
              "      <td>0.096486</td>\n",
              "      <td>0.359489</td>\n",
              "      <td>-0.373040</td>\n",
              "      <td>0.236963</td>\n",
              "      <td>0.010077</td>\n",
              "      <td>-0.117762</td>\n",
              "      <td>-0.073242</td>\n",
              "      <td>0.012282</td>\n",
              "      <td>-0.269568</td>\n",
              "      <td>-0.298970</td>\n",
              "      <td>0.260460</td>\n",
              "      <td>-0.155984</td>\n",
              "      <td>-0.029242</td>\n",
              "      <td>-0.129993</td>\n",
              "      <td>...</td>\n",
              "      <td>-0.381440</td>\n",
              "      <td>-0.422670</td>\n",
              "      <td>0.198396</td>\n",
              "      <td>0.163002</td>\n",
              "      <td>-0.814387</td>\n",
              "      <td>0.006043</td>\n",
              "      <td>0.723452</td>\n",
              "      <td>0.074904</td>\n",
              "      <td>-0.234093</td>\n",
              "      <td>-0.033742</td>\n",
              "      <td>-0.079099</td>\n",
              "      <td>0.162796</td>\n",
              "      <td>0.286926</td>\n",
              "      <td>-0.202724</td>\n",
              "      <td>-0.158867</td>\n",
              "      <td>-0.034181</td>\n",
              "      <td>0.424369</td>\n",
              "      <td>0.233353</td>\n",
              "      <td>-0.653325</td>\n",
              "      <td>-0.558643</td>\n",
              "      <td>-0.030366</td>\n",
              "      <td>0.016592</td>\n",
              "      <td>0.625236</td>\n",
              "      <td>-0.303750</td>\n",
              "      <td>0.606710</td>\n",
              "      <td>-0.167724</td>\n",
              "      <td>0.145429</td>\n",
              "      <td>0.517409</td>\n",
              "      <td>-0.367992</td>\n",
              "      <td>-0.471600</td>\n",
              "      <td>0.277984</td>\n",
              "      <td>0.228676</td>\n",
              "      <td>0.107573</td>\n",
              "      <td>0.114387</td>\n",
              "      <td>0.091323</td>\n",
              "      <td>0.060697</td>\n",
              "      <td>-0.399438</td>\n",
              "      <td>0.192164</td>\n",
              "      <td>0.402463</td>\n",
              "      <td>0.017721</td>\n",
              "    </tr>\n",
              "    <tr>\n",
              "      <th>2</th>\n",
              "      <td>0.461877</td>\n",
              "      <td>-0.457880</td>\n",
              "      <td>0.513430</td>\n",
              "      <td>-0.190954</td>\n",
              "      <td>0.109540</td>\n",
              "      <td>-0.551263</td>\n",
              "      <td>-0.045613</td>\n",
              "      <td>0.284407</td>\n",
              "      <td>0.005929</td>\n",
              "      <td>0.096053</td>\n",
              "      <td>-0.464218</td>\n",
              "      <td>-0.268117</td>\n",
              "      <td>-0.122006</td>\n",
              "      <td>-0.065202</td>\n",
              "      <td>0.075796</td>\n",
              "      <td>0.377724</td>\n",
              "      <td>-0.241784</td>\n",
              "      <td>0.106219</td>\n",
              "      <td>0.028569</td>\n",
              "      <td>0.019406</td>\n",
              "      <td>0.021013</td>\n",
              "      <td>0.290803</td>\n",
              "      <td>-0.170949</td>\n",
              "      <td>0.146199</td>\n",
              "      <td>0.292057</td>\n",
              "      <td>-0.034775</td>\n",
              "      <td>0.184371</td>\n",
              "      <td>0.166276</td>\n",
              "      <td>-0.233765</td>\n",
              "      <td>0.031709</td>\n",
              "      <td>-0.032245</td>\n",
              "      <td>0.020250</td>\n",
              "      <td>-0.651930</td>\n",
              "      <td>-0.020060</td>\n",
              "      <td>0.271155</td>\n",
              "      <td>-0.193605</td>\n",
              "      <td>-0.142687</td>\n",
              "      <td>0.033979</td>\n",
              "      <td>0.139530</td>\n",
              "      <td>-0.318093</td>\n",
              "      <td>...</td>\n",
              "      <td>-0.194767</td>\n",
              "      <td>-0.420717</td>\n",
              "      <td>0.386716</td>\n",
              "      <td>0.347061</td>\n",
              "      <td>-0.025488</td>\n",
              "      <td>-0.468410</td>\n",
              "      <td>0.181382</td>\n",
              "      <td>-0.028593</td>\n",
              "      <td>0.270060</td>\n",
              "      <td>0.287085</td>\n",
              "      <td>-0.008730</td>\n",
              "      <td>0.048979</td>\n",
              "      <td>0.145188</td>\n",
              "      <td>0.190702</td>\n",
              "      <td>-0.381874</td>\n",
              "      <td>0.179344</td>\n",
              "      <td>-0.096729</td>\n",
              "      <td>-0.097434</td>\n",
              "      <td>-0.110880</td>\n",
              "      <td>-0.029153</td>\n",
              "      <td>-0.152283</td>\n",
              "      <td>0.503305</td>\n",
              "      <td>0.366973</td>\n",
              "      <td>-0.264216</td>\n",
              "      <td>0.457894</td>\n",
              "      <td>-0.132467</td>\n",
              "      <td>0.183723</td>\n",
              "      <td>0.506543</td>\n",
              "      <td>-0.512732</td>\n",
              "      <td>-0.364811</td>\n",
              "      <td>-0.330962</td>\n",
              "      <td>-0.004874</td>\n",
              "      <td>0.278071</td>\n",
              "      <td>0.163358</td>\n",
              "      <td>-0.366424</td>\n",
              "      <td>-0.070008</td>\n",
              "      <td>-0.426982</td>\n",
              "      <td>-0.199816</td>\n",
              "      <td>-0.055107</td>\n",
              "      <td>-0.419222</td>\n",
              "    </tr>\n",
              "    <tr>\n",
              "      <th>3</th>\n",
              "      <td>0.505855</td>\n",
              "      <td>0.506625</td>\n",
              "      <td>0.036616</td>\n",
              "      <td>-0.216881</td>\n",
              "      <td>0.364119</td>\n",
              "      <td>-0.356463</td>\n",
              "      <td>0.117693</td>\n",
              "      <td>0.627619</td>\n",
              "      <td>-0.226438</td>\n",
              "      <td>-0.409549</td>\n",
              "      <td>-0.045220</td>\n",
              "      <td>-0.466911</td>\n",
              "      <td>-0.081473</td>\n",
              "      <td>0.257545</td>\n",
              "      <td>0.075973</td>\n",
              "      <td>0.374480</td>\n",
              "      <td>-0.156698</td>\n",
              "      <td>0.009036</td>\n",
              "      <td>-0.501036</td>\n",
              "      <td>-0.306521</td>\n",
              "      <td>-0.540866</td>\n",
              "      <td>-0.085162</td>\n",
              "      <td>-0.020614</td>\n",
              "      <td>0.384189</td>\n",
              "      <td>0.286379</td>\n",
              "      <td>0.012429</td>\n",
              "      <td>0.037469</td>\n",
              "      <td>0.031580</td>\n",
              "      <td>-0.070766</td>\n",
              "      <td>0.316265</td>\n",
              "      <td>0.304155</td>\n",
              "      <td>0.370369</td>\n",
              "      <td>-0.252221</td>\n",
              "      <td>-0.260843</td>\n",
              "      <td>-0.465615</td>\n",
              "      <td>-0.410219</td>\n",
              "      <td>-0.101935</td>\n",
              "      <td>-0.204209</td>\n",
              "      <td>-0.535378</td>\n",
              "      <td>0.064690</td>\n",
              "      <td>...</td>\n",
              "      <td>-0.360063</td>\n",
              "      <td>-0.092518</td>\n",
              "      <td>-0.160295</td>\n",
              "      <td>-0.314354</td>\n",
              "      <td>-0.039566</td>\n",
              "      <td>-0.293562</td>\n",
              "      <td>0.136468</td>\n",
              "      <td>0.253230</td>\n",
              "      <td>-0.266959</td>\n",
              "      <td>-0.125251</td>\n",
              "      <td>-0.096753</td>\n",
              "      <td>0.030837</td>\n",
              "      <td>-0.182506</td>\n",
              "      <td>-0.247205</td>\n",
              "      <td>-0.107681</td>\n",
              "      <td>0.231200</td>\n",
              "      <td>0.123443</td>\n",
              "      <td>-0.073309</td>\n",
              "      <td>-0.380125</td>\n",
              "      <td>-0.544852</td>\n",
              "      <td>0.136819</td>\n",
              "      <td>0.281157</td>\n",
              "      <td>-0.179868</td>\n",
              "      <td>-0.219408</td>\n",
              "      <td>0.434341</td>\n",
              "      <td>0.204800</td>\n",
              "      <td>0.047569</td>\n",
              "      <td>0.278848</td>\n",
              "      <td>0.030274</td>\n",
              "      <td>-0.343504</td>\n",
              "      <td>0.150335</td>\n",
              "      <td>0.036935</td>\n",
              "      <td>0.051071</td>\n",
              "      <td>-0.117430</td>\n",
              "      <td>0.162060</td>\n",
              "      <td>0.048032</td>\n",
              "      <td>0.110897</td>\n",
              "      <td>-0.118173</td>\n",
              "      <td>0.340653</td>\n",
              "      <td>0.015517</td>\n",
              "    </tr>\n",
              "    <tr>\n",
              "      <th>4</th>\n",
              "      <td>-0.060201</td>\n",
              "      <td>0.342230</td>\n",
              "      <td>0.599367</td>\n",
              "      <td>-0.179265</td>\n",
              "      <td>0.220182</td>\n",
              "      <td>0.017627</td>\n",
              "      <td>0.257932</td>\n",
              "      <td>0.607665</td>\n",
              "      <td>-0.264959</td>\n",
              "      <td>-0.658187</td>\n",
              "      <td>0.087819</td>\n",
              "      <td>0.089560</td>\n",
              "      <td>-0.006981</td>\n",
              "      <td>0.212977</td>\n",
              "      <td>-0.060844</td>\n",
              "      <td>0.443026</td>\n",
              "      <td>-0.220228</td>\n",
              "      <td>-0.017828</td>\n",
              "      <td>-0.258729</td>\n",
              "      <td>-0.461075</td>\n",
              "      <td>-0.328743</td>\n",
              "      <td>0.100014</td>\n",
              "      <td>-0.136390</td>\n",
              "      <td>0.863395</td>\n",
              "      <td>0.246413</td>\n",
              "      <td>-0.068395</td>\n",
              "      <td>0.073945</td>\n",
              "      <td>-0.277297</td>\n",
              "      <td>-0.272095</td>\n",
              "      <td>0.300521</td>\n",
              "      <td>0.372591</td>\n",
              "      <td>0.165018</td>\n",
              "      <td>-0.114317</td>\n",
              "      <td>-0.637910</td>\n",
              "      <td>-0.110654</td>\n",
              "      <td>-0.299094</td>\n",
              "      <td>0.153572</td>\n",
              "      <td>-0.129695</td>\n",
              "      <td>-0.078555</td>\n",
              "      <td>0.320768</td>\n",
              "      <td>...</td>\n",
              "      <td>-0.127706</td>\n",
              "      <td>-0.569145</td>\n",
              "      <td>-0.086782</td>\n",
              "      <td>-0.051560</td>\n",
              "      <td>-0.262167</td>\n",
              "      <td>0.117931</td>\n",
              "      <td>-0.360372</td>\n",
              "      <td>0.341504</td>\n",
              "      <td>-0.527174</td>\n",
              "      <td>-0.209345</td>\n",
              "      <td>-0.081836</td>\n",
              "      <td>-0.253879</td>\n",
              "      <td>0.218696</td>\n",
              "      <td>-0.069786</td>\n",
              "      <td>0.245093</td>\n",
              "      <td>0.042547</td>\n",
              "      <td>-0.141536</td>\n",
              "      <td>-0.310480</td>\n",
              "      <td>0.142912</td>\n",
              "      <td>-0.785367</td>\n",
              "      <td>0.225122</td>\n",
              "      <td>0.289814</td>\n",
              "      <td>0.750362</td>\n",
              "      <td>-0.095056</td>\n",
              "      <td>0.162670</td>\n",
              "      <td>-0.185914</td>\n",
              "      <td>-0.249693</td>\n",
              "      <td>-0.167339</td>\n",
              "      <td>-0.160223</td>\n",
              "      <td>-0.174162</td>\n",
              "      <td>-0.034418</td>\n",
              "      <td>-0.202400</td>\n",
              "      <td>0.043169</td>\n",
              "      <td>0.631233</td>\n",
              "      <td>0.175984</td>\n",
              "      <td>-0.248695</td>\n",
              "      <td>0.109695</td>\n",
              "      <td>0.032460</td>\n",
              "      <td>0.092554</td>\n",
              "      <td>0.355730</td>\n",
              "    </tr>\n",
              "  </tbody>\n",
              "</table>\n",
              "<p>5 rows × 768 columns</p>\n",
              "</div>"
            ],
            "text/plain": [
              "        0         1         2    ...       765       766       767\n",
              "0 -0.092861  0.289360  0.529459  ...  0.204702 -0.090258 -0.289373\n",
              "1 -0.238248 -0.202231  0.760221  ...  0.192164  0.402463  0.017721\n",
              "2  0.461877 -0.457880  0.513430  ... -0.199816 -0.055107 -0.419222\n",
              "3  0.505855  0.506625  0.036616  ... -0.118173  0.340653  0.015517\n",
              "4 -0.060201  0.342230  0.599367  ...  0.032460  0.092554  0.355730\n",
              "\n",
              "[5 rows x 768 columns]"
            ]
          },
          "metadata": {
            "tags": []
          },
          "execution_count": 44
        }
      ]
    },
    {
      "cell_type": "markdown",
      "metadata": {
        "id": "ulddjiyctzd6"
      },
      "source": [
        "#Understanding the Data"
      ]
    },
    {
      "cell_type": "code",
      "metadata": {
        "colab": {
          "base_uri": "https://localhost:8080/"
        },
        "id": "HCgwuNsYsYCY",
        "outputId": "dd2fdc6d-cc30-45b1-b127-5fad33f71705"
      },
      "source": [
        "pca = PCA(n_components=2)\n",
        "pca.fit(emb_sentences)\n",
        "print(np.sum(pca.explained_variance_ratio_))"
      ],
      "execution_count": null,
      "outputs": [
        {
          "output_type": "stream",
          "text": [
            "0.36799268776845734\n"
          ],
          "name": "stdout"
        }
      ]
    },
    {
      "cell_type": "code",
      "metadata": {
        "id": "ASEl-I3Sso-x"
      },
      "source": [
        "pca_sentence_features = pca.transform(emb_sentences)"
      ],
      "execution_count": null,
      "outputs": []
    },
    {
      "cell_type": "code",
      "metadata": {
        "colab": {
          "base_uri": "https://localhost:8080/",
          "height": 625
        },
        "id": "mTdCO38ls97F",
        "outputId": "70554dc9-66e0-4ab7-b95f-0a3741a20462"
      },
      "source": [
        "plt.figure(figsize=(10,10))\n",
        "for i in range(len(pca_sentence_features)):\n",
        "  plt.scatter(pca_sentence_features[i,0],pca_sentence_features[i,1])\n",
        "  plt.annotate('sentence '+ str(i),(pca_sentence_features[i,0],pca_sentence_features[i,1]))\n",
        "plt.title('2D PCA projection of embedded sentences from BERT')"
      ],
      "execution_count": null,
      "outputs": [
        {
          "output_type": "execute_result",
          "data": {
            "text/plain": [
              "Text(0.5, 1.0, '2D PCA projection of embedded sentences from BERT')"
            ]
          },
          "metadata": {
            "tags": []
          },
          "execution_count": 58
        },
        {
          "output_type": "display_data",
          "data": {
            "image/png": "[encoded data removed]",
            "text/plain": [
              "<Figure size 720x720 with 1 Axes>"
            ]
          },
          "metadata": {
            "tags": [],
            "needs_background": "light"
          }
        }
      ]
    },
    {
      "cell_type": "markdown",
      "metadata": {
        "id": "u5fBIyV6xhBa"
      },
      "source": [
        "##Elbow Method"
      ]
    },
    {
      "cell_type": "code",
      "metadata": {
        "id": "-zPj9Z2JvOnk"
      },
      "source": [
        "def Elbow_Method(emb_sentences):\n",
        "  Sum_of_squared_distances = []\n",
        "  K = range(1,art_size)\n",
        "  for k in K:\n",
        "    km = KMeans(n_clusters=k)\n",
        "    km = km.fit(emb_sentences)\n",
        "    Sum_of_squared_distances.append(km.inertia_)\n",
        "  plt.plot(K, Sum_of_squared_distances, 'bx-')\n",
        "  plt.xlabel('k')\n",
        "  plt.ylabel('Sum_of_squared_distances')\n",
        "  plt.title('Elbow Method For Optimal k')\n",
        "  plt.show()"
      ],
      "execution_count": null,
      "outputs": []
    },
    {
      "cell_type": "code",
      "metadata": {
        "id": "IA6XKJjw1b6g",
        "colab": {
          "base_uri": "https://localhost:8080/",
          "height": 294
        },
        "outputId": "c6092d72-528f-4931-d461-a2aa4f4155f5"
      },
      "source": [
        "Elbow_Method(emb_sentences)"
      ],
      "execution_count": null,
      "outputs": [
        {
          "output_type": "display_data",
          "data": {
            "image/png": "[encoded data removed]",
            "text/plain": [
              "<Figure size 432x288 with 1 Axes>"
            ]
          },
          "metadata": {
            "tags": [],
            "needs_background": "light"
          }
        }
      ]
    },
    {
      "cell_type": "markdown",
      "metadata": {
        "id": "jVSJOksqxoyX"
      },
      "source": [
        "##Silhouette Method\n",
        "\n",
        "\n"
      ]
    },
    {
      "cell_type": "code",
      "metadata": {
        "id": "C61snCmgAgXg",
        "colab": {
          "base_uri": "https://localhost:8080/"
        },
        "outputId": "3cf74419-f505-45be-8f57-8650f6260f32"
      },
      "source": [
        "from sklearn.cluster import KMeans\n",
        "from sklearn.metrics import silhouette_score\n",
        "import numpy as np\n",
        "\n",
        "# Use silhouette score to find optimal number of clusters to segment the data\n",
        "num_clusters = np.arange(2,art_size)\n",
        "results = {}\n",
        "for size in num_clusters:\n",
        "    model = KMeans(n_clusters = size).fit(emb_sentences)\n",
        "    predictions = model.predict(emb_sentences)\n",
        "    results[size] = silhouette_score(emb_sentences, predictions)\n",
        "\n",
        "best_size = max(results, key=results.get)\n",
        "print(best_size)"
      ],
      "execution_count": null,
      "outputs": [
        {
          "output_type": "stream",
          "text": [
            "2\n"
          ],
          "name": "stdout"
        }
      ]
    },
    {
      "cell_type": "markdown",
      "metadata": {
        "id": "MzPUdV5lx6Mf"
      },
      "source": [
        "##K-Mean Model"
      ]
    },
    {
      "cell_type": "code",
      "metadata": {
        "id": "fzDGAIXl1lEM"
      },
      "source": [
        "#num_clusters = 4\n",
        "def KMean_Clustering(df):\n",
        "    num_clusters = int(input(\"Enter Elbow point form graph: \"))\n",
        "    km = KMeans(n_clusters=num_clusters)\n",
        "    km.fit(df)\n",
        "    #plt.scatter(emb_sentences, c=km.labels_, cmap='rainbow')\n",
        "    clusters = km.labels_.tolist()   \n",
        "    centers = km.cluster_centers_\n",
        "\n",
        "    return clusters, centers"
      ],
      "execution_count": null,
      "outputs": []
    },
    {
      "cell_type": "code",
      "metadata": {
        "id": "Sx85SBC94UxG",
        "colab": {
          "base_uri": "https://localhost:8080/"
        },
        "outputId": "4e926a1f-49cb-429a-aa1a-4a09ccd6b0b3"
      },
      "source": [
        "clusters, centers = KMean_Clustering(emb_sentences)\n",
        "print(clusters)\n",
        "print(centers)"
      ],
      "execution_count": null,
      "outputs": [
        {
          "output_type": "stream",
          "text": [
            "Enter Elbow point form graph: 2\n",
            "[0, 0, 0, 1, 1, 0, 0, 1, 1, 0, 0, 0, 0]\n",
            "[[ 0.01128609 -0.15630614  0.48129844 ... -0.04563128  0.12397951\n",
            "  -0.17796546]\n",
            " [ 0.06758066  0.18567331  0.14691817 ... -0.08805837  0.11907012\n",
            "  -0.06183596]]\n"
          ],
          "name": "stdout"
        }
      ]
    },
    {
      "cell_type": "code",
      "metadata": {
        "id": "pf4jBsK-ix2P",
        "colab": {
          "base_uri": "https://localhost:8080/"
        },
        "outputId": "1994d321-8ece-4bae-9302-94d03a3c140f"
      },
      "source": [
        "print(emb_Matrix[0])"
      ],
      "execution_count": null,
      "outputs": [
        {
          "output_type": "stream",
          "text": [
            "[-9.28609818e-02  2.89360106e-01  5.29459417e-01 -2.72351414e-01\n",
            "  1.05510615e-01 -6.30268455e-01  8.27737972e-02  6.12765908e-01\n",
            " -1.40225053e-01  1.70770630e-01 -4.88322647e-03 -4.08938050e-01\n",
            "  2.06396341e-01  2.40189031e-01 -1.21436141e-01  1.02857995e+00\n",
            "  2.43331879e-01 -1.76516399e-01 -5.01673222e-01 -1.51503980e-02\n",
            " -4.12799954e-01 -4.09865081e-02  1.31995410e-01  4.03863072e-01\n",
            "  7.14378417e-01  2.30311438e-01  1.61531880e-01  3.23962301e-01\n",
            " -4.62656230e-01  4.87841159e-01  4.37122062e-02  5.18551350e-01\n",
            "  1.86840013e-01 -3.25530291e-01 -3.55084717e-01 -2.55101353e-01\n",
            "  1.95814058e-01 -2.90515333e-01  4.86759841e-01  7.70238712e-02\n",
            " -3.70641530e-01 -7.14256644e-01  5.59538364e-01 -2.04401940e-01\n",
            " -1.70206636e-01  1.60700589e-01  3.26494366e-01 -9.91554335e-02\n",
            "  5.48672140e-01 -7.27818534e-03 -5.92033744e-01  8.27579722e-02\n",
            " -3.15115064e-01 -3.68329883e-01  2.38659278e-01  2.47024611e-01\n",
            " -4.77223247e-01 -3.97144586e-01 -1.93702772e-01  2.24141218e-02\n",
            " -5.20030737e-01  2.78253645e-01 -2.36580089e-01 -1.02445650e+00\n",
            "  2.84523159e-01  1.73627377e-01 -2.61583310e-02 -1.94794254e-03\n",
            "  1.57916412e-01  8.35515112e-02 -3.12184244e-01  2.10414082e-01\n",
            " -5.80356181e-01  3.19459140e-01  1.23386934e-01 -5.25061965e-01\n",
            "  1.04823336e-01  4.12770212e-01 -1.76142842e-01  2.35606089e-01\n",
            "  2.93563539e-03  1.08639382e-01  5.58251202e-01  3.03536803e-01\n",
            "  3.88022177e-02  2.98628092e-01  8.75270367e-02  1.65877715e-02\n",
            " -5.27986646e-01  2.14561969e-01 -6.83825791e-01 -3.38455379e-01\n",
            "  3.30385119e-01  5.03938675e-01  3.27627301e-01 -3.78308684e-01\n",
            " -2.16019060e-02  9.37936455e-02 -4.95972991e-01  2.81344682e-01\n",
            "  4.05083090e-01 -3.89366150e-01  3.61759692e-01  4.22002137e-01\n",
            " -1.78126603e-01 -6.98775575e-02  8.95523950e-02  3.48307401e-01\n",
            " -2.32067257e-01 -1.53910205e-01 -2.84651637e-01 -1.36453122e-01\n",
            " -2.77735800e-01 -3.34036976e-01  3.29634756e-01 -4.58333939e-02\n",
            "  1.89268947e-01 -4.07962799e-01  7.42293820e-02  1.56202754e-02\n",
            "  3.43542397e-01 -5.85956514e-01  2.33296841e-01  2.97478378e-01\n",
            " -2.59221166e-01 -7.85714090e-01  3.94243181e-01  3.18496495e-01\n",
            "  3.54687750e-01 -2.35865742e-01  4.50896829e-01 -1.07935131e-01\n",
            " -1.88202515e-01 -5.58815658e-01 -7.68898949e-02  2.64972150e-01\n",
            " -1.32011116e-01 -4.19211775e-01 -4.67220217e-01  2.63458073e-01\n",
            "  1.36660365e-02 -6.91754073e-02 -9.83035937e-02 -1.13960817e-01\n",
            "  3.41651410e-01 -4.28582788e-01 -7.72378981e-01 -4.55461591e-01\n",
            "  1.28768206e-01  2.04820961e-01 -1.44015968e-01  3.58591110e-01\n",
            " -4.13503051e-01 -2.95566637e-02 -3.77824068e-01  2.82667398e-01\n",
            " -6.12018537e-03  6.08698487e-01  3.74926835e-01 -2.16660902e-01\n",
            "  1.77617490e-01  2.38134831e-01 -1.23426817e-01  2.22106338e-01\n",
            " -3.46468799e-02 -1.38703406e-01  2.26520836e-01  8.66338909e-01\n",
            " -1.90619573e-01 -4.53444839e-01  3.80515754e-01  1.98875070e-01\n",
            "  2.26826310e-01  2.45359018e-01  4.76734154e-02  4.80598360e-01\n",
            " -6.20381296e-01  5.34891449e-02  4.00862694e-01  7.81119525e-01\n",
            " -4.19482172e-01  3.10405433e-01  3.47131371e-01 -2.16188684e-01\n",
            "  3.73154283e-01  8.94989446e-02 -8.63630027e-02 -3.61589044e-01\n",
            "  2.41991073e-01 -3.91817957e-01 -8.93634278e-03  2.38542989e-01\n",
            " -2.18421489e-01 -3.53453718e-02 -7.90543556e-01  1.32332370e-01\n",
            "  6.22301474e-02 -6.98987171e-02  2.98249093e-03 -2.46672451e-01\n",
            " -2.68395960e-01  1.69985145e-01 -3.98197979e-01  1.53994635e-01\n",
            "  1.16918162e-01  3.87516886e-01 -3.76887709e-01 -5.09155214e-01\n",
            "  1.68412570e-02  5.24628907e-02  6.23800866e-02  1.58866376e-01\n",
            "  3.67407426e-02  5.09322643e-01 -3.62821639e-01  3.41264009e-02\n",
            "  7.54385581e-03 -1.77698463e-01 -5.98266006e-01 -1.70690969e-01\n",
            " -2.15353414e-01  8.41672480e-01 -2.44816497e-01 -2.32730985e-01\n",
            " -4.29337651e-01  1.55122185e+00 -1.72090337e-01 -7.15632200e-01\n",
            "  1.78324267e-01  7.19191730e-01 -3.50413620e-01 -1.75934270e-01\n",
            " -1.15154088e-01  1.14547580e-01 -4.26161617e-01 -1.71328574e-01\n",
            "  1.75053149e-01  4.35228050e-02  3.54428411e-01 -4.20301825e-01\n",
            " -1.04532547e-01  3.72349232e-01  1.75381780e-01  5.70350409e-01\n",
            "  3.30594629e-01  3.88699025e-01 -3.64542395e-01 -1.04999207e-01\n",
            " -2.65075624e-01 -4.67389494e-01 -1.06772147e-01 -2.96315253e-01\n",
            " -7.89790213e-01  2.96107501e-01 -2.27202445e-01 -6.53269291e-01\n",
            " -1.84209675e-01 -2.97333151e-01 -7.35516101e-02 -8.12611133e-02\n",
            "  2.34645888e-01 -6.25673413e-01  2.28335574e-01  2.80082077e-01\n",
            "  3.36917341e-02 -5.72948635e-01  1.77583396e-01  4.92817163e-03\n",
            "  4.88943815e-01 -5.86113036e-02 -5.13757408e-01  2.04781368e-01\n",
            "  1.53182864e-01  6.50442898e-01  5.15872203e-02 -2.01175082e-03\n",
            " -5.85094929e-01  5.06754741e-02  3.90163094e-01 -3.87331098e-01\n",
            " -9.50779691e-02  4.17796463e-01 -5.71015835e-01  1.99534878e-01\n",
            " -9.70422566e-01 -9.94802732e-03 -9.09280404e-02 -3.84914100e-01\n",
            "  2.69659728e-01 -4.32288915e-01 -5.00066459e-01  3.61413091e-01\n",
            "  6.92916522e-03 -4.74091060e-02 -1.08704403e-01 -2.04011261e-01\n",
            "  3.08162898e-01 -2.21934214e-01 -1.71679661e-01 -3.07174444e-01\n",
            " -3.76108378e-01  3.73435915e-02  5.91382504e-01 -2.72162616e-01\n",
            " -2.64545143e-01  3.32665056e-01  1.18223414e-01 -3.14410150e-01\n",
            " -7.26152372e+00  1.44310214e-03  2.27545545e-01  1.74567416e-01\n",
            "  2.67060012e-01 -3.05127408e-02  8.91513452e-02 -7.10957199e-02\n",
            "  2.12266728e-01  3.20077509e-01 -4.71863180e-01 -4.19656843e-01\n",
            " -1.57149270e-01  8.62146541e-02  1.69780537e-01 -3.40114295e-01\n",
            "  2.83470720e-01 -3.61872971e-01  4.64081824e-01  6.18131399e-01\n",
            " -1.47927344e-01 -7.19738781e-01  3.77050489e-01 -5.29661924e-02\n",
            "  3.74049723e-01 -4.54231828e-01 -6.32948518e-01 -1.72616839e-01\n",
            " -4.27922398e-01  2.77226806e-01  6.96565211e-02 -2.74235517e-01\n",
            "  2.55328268e-01  2.24936083e-01 -2.89577484e-01  1.77732527e-01\n",
            " -5.43994725e-01 -2.61029482e-01 -3.06788355e-01 -2.96086073e-01\n",
            " -8.95479135e-03 -6.06266201e-01  3.19520921e-01  4.77385074e-02\n",
            "  7.98891902e-01 -2.91875124e-01  3.74957133e-04  3.23035747e-01\n",
            "  2.36627221e-01 -2.30627712e-02  3.15096110e-01 -2.23331824e-01\n",
            " -4.50707197e-01 -6.33302629e-01  3.53304356e-01 -2.72471964e-01\n",
            " -2.13249683e-01  5.69466233e-01 -1.97635993e-01 -6.94846272e-01\n",
            "  5.58738887e-01  3.55046362e-01 -6.28126323e-01  1.35781944e-01\n",
            " -1.84966270e-02 -1.80100068e-01 -1.08639622e+00 -7.03997254e-01\n",
            "  9.29790139e-02 -2.49020025e-01 -3.42582971e-01  2.27084443e-01\n",
            " -3.34910333e-01 -1.13463044e+00 -7.19535351e-01 -6.12193704e-01\n",
            "  3.37394416e-01 -7.47720972e-02 -9.76462737e-02 -4.29334551e-01\n",
            " -7.90392399e-01 -5.52719295e-01 -3.42455506e-01  3.18562299e-01\n",
            " -1.28926961e-02  5.09605229e-01 -3.97741914e-01  1.10256830e-02\n",
            " -3.06453943e-01 -3.89971346e-01  1.41570121e-01  3.20987612e-01\n",
            " -1.66049615e-01  4.22042787e-01 -5.27412780e-02 -3.00385505e-01\n",
            "  2.84041703e-01 -1.84830070e-01  3.27429682e-01  1.30597465e-02\n",
            " -2.36450553e-01  1.13219962e-01  3.71994108e-01 -1.83262303e-01\n",
            "  4.60369259e-01 -2.74761856e-01 -9.56280008e-02 -2.50810385e-01\n",
            " -8.22985768e-02  3.00644219e-01  1.55371264e-01 -1.94410831e-01\n",
            " -4.63800728e-02 -2.82193035e-01  2.36998960e-01 -4.60870028e-01\n",
            "  5.98713696e-01  5.95678449e-01  9.26662832e-02 -3.35807979e-01\n",
            " -2.96764523e-01 -4.34642099e-03 -3.04890424e-01 -4.19581801e-01\n",
            "  6.09752774e-01  5.55937350e-01 -4.35495228e-01 -6.88698655e-03\n",
            " -2.23726496e-01  1.67174891e-01 -5.45791507e-01  5.51339507e-01\n",
            " -6.80609867e-02  3.51166487e-01  4.71728116e-01 -3.01553994e-01\n",
            "  2.13423327e-01 -5.25100648e-01 -1.15120724e-01 -6.03935532e-02\n",
            "  3.27545971e-01  1.43442182e-02  5.47655582e-01  2.68985718e-01\n",
            "  1.99216589e-01 -2.55073681e-02  1.05996385e-01  2.91714296e-02\n",
            "  1.80681810e-01  1.45503908e-01  5.54566495e-02  1.10292889e-01\n",
            "  2.51836423e-02 -1.46796271e-01  3.22544694e-01  4.64861870e-01\n",
            "  1.99542549e-02  7.47756958e-02  2.79721972e-02  3.79348695e-02\n",
            "  2.54051127e-02 -1.24186918e-01  7.69567564e-02  3.56542349e-01\n",
            " -4.06598896e-01 -7.08111450e-02 -1.16474099e-01 -1.19335867e-01\n",
            " -2.27070406e-01 -2.46107459e-01 -2.06656098e-01  1.33541292e-02\n",
            "  2.72090644e-01 -3.90235595e-02 -1.48704335e-01  7.57523119e-01\n",
            "  6.48460537e-02 -2.77695749e-02  4.42853570e-02  2.77560830e-01\n",
            "  5.51481806e-02  4.31320399e-01 -8.95049646e-02 -2.01396868e-01\n",
            "  3.11663270e-01 -3.82674515e-01  1.97991893e-01 -1.72145113e-01\n",
            " -2.57964134e-01  2.91294575e-01 -4.36062098e-01  9.88742411e-01\n",
            " -4.04381365e-01 -3.95553648e-01 -9.33341205e-01 -7.92245567e-01\n",
            " -2.61889249e-01 -4.37046140e-01 -9.34183449e-02  4.14130956e-01\n",
            " -2.68135786e-01 -3.89668256e-01 -3.83823335e-01  7.50941873e-01\n",
            "  2.11921319e-01 -5.86441517e-01  5.22328578e-02  3.64343412e-02\n",
            "  1.11720160e-01  3.10183614e-01 -4.26158249e-01 -2.98669606e-01\n",
            "  5.39714217e-01 -3.52516800e-01  1.17198795e-01 -2.84987744e-02\n",
            " -3.75851989e-01 -5.99436224e-01 -7.24249363e-01  1.38160154e-01\n",
            " -5.20874783e-02  2.14417636e-01  3.87556106e-01 -6.07969575e-02\n",
            " -2.58921862e-01 -2.83881485e-01  3.30548525e-01 -2.84211580e-02\n",
            " -5.90642035e-01 -4.38543223e-02  1.51216194e-01 -1.31482410e+00\n",
            " -1.75875917e-01 -4.69270855e-01 -5.08368909e-01  3.06296438e-01\n",
            " -1.01975016e-02 -3.29796433e-01 -2.26699989e-02 -2.35812142e-01\n",
            "  3.74412090e-01 -2.50448465e-01 -7.32294917e-01 -2.01789483e-01\n",
            " -2.43780315e-01  2.64240354e-01  1.11757934e-01  3.01454455e-01\n",
            "  6.57177567e-02 -2.21516505e-01 -5.25523007e-01 -1.58012688e-01\n",
            " -2.34432165e-02 -3.74428004e-01 -3.83843541e-01 -2.32625782e-01\n",
            " -2.19699278e-01  4.50228862e-02 -2.48913184e-01  3.00587267e-01\n",
            "  1.17137007e-01 -1.13880962e-01 -2.16489360e-01  4.82544512e-01\n",
            " -1.04948163e-01 -2.08753183e-01 -8.85732546e-02  3.99669379e-01\n",
            " -6.76027238e-01  6.56667128e-02 -3.55481007e-03 -5.30932724e-01\n",
            " -4.30968851e-01 -7.04406276e-02 -6.91105351e-02  2.74330508e-02\n",
            " -2.56382138e-01 -1.58583447e-01  1.31709203e-01 -7.47731447e-01\n",
            "  4.45662439e-01  5.87988138e-01 -2.54651904e-02  1.07091814e-01\n",
            "  7.99047872e-02 -1.76135063e-01 -2.81268209e-01  3.97788107e-01\n",
            "  3.19505453e-01  2.74991125e-01  3.25722933e-01  7.36141428e-02\n",
            "  2.84562707e-01  4.76214170e-01 -7.42833838e-02  1.59956262e-01\n",
            "  5.89810550e-01  2.92060405e-01 -1.74154729e-01  2.48048156e-01\n",
            " -5.32729328e-01 -7.93301910e-02  4.24036920e-01 -2.60912448e-01\n",
            " -2.82647640e-01  1.96340293e-01  2.22734272e-01 -3.34275007e-01\n",
            " -2.62482703e-01  8.84102806e-02 -3.13310981e-01 -3.08518857e-01\n",
            " -7.50688463e-02  1.14718251e-01  1.89548314e-01  2.55472273e-01\n",
            " -6.22038186e-01  2.37992808e-01 -2.86541551e-01  1.94541737e-01\n",
            " -6.29401982e-01  5.98833300e-02  2.45697543e-01 -4.52630997e-01\n",
            "  8.93689990e-02  6.18962884e-01 -5.25595341e-03 -5.84579706e-02\n",
            "  1.78899586e-01  6.98230788e-03 -4.88049865e-01  2.92496800e-01\n",
            " -2.09847167e-01  3.50002944e-01 -1.96267456e-01  1.67018354e-01\n",
            "  2.28130817e-02  3.07053000e-01  2.11405173e-01 -2.83232838e-01\n",
            "  6.96340263e-01  9.91280973e-02  2.14306712e-01  4.10103679e-01\n",
            "  2.51436830e-01 -5.50144017e-01 -5.52202821e-01  8.87361646e-01\n",
            "  3.49790573e-01  7.83008412e-02  1.13982968e-02 -2.11501755e-02\n",
            "  1.36583447e-01 -6.04416549e-01  1.05955899e+00  2.34442316e-02\n",
            "  4.68437932e-03  4.76599634e-01  1.91468894e-01  7.49556005e-01\n",
            " -8.48112330e-02  1.86320156e-01  2.82253921e-01 -3.20977181e-01\n",
            " -1.12503646e-02 -8.77857357e-02  2.77643591e-01 -2.49743819e-01\n",
            "  1.55130133e-01 -3.94646041e-02  5.13288200e-01 -6.26662076e-01\n",
            " -1.81542665e-01 -5.16090095e-01  5.02288997e-01  1.14928775e-01\n",
            " -2.31851056e-01 -4.09385353e-01 -5.22000901e-02  2.98046142e-01\n",
            " -4.22438622e-01 -1.68283179e-01 -6.80432022e-01  3.89729053e-01\n",
            " -6.33435607e-01 -2.56929807e-02 -1.28548354e-01 -4.80712727e-02\n",
            "  4.45294380e-02 -2.93502688e-01 -1.18092299e-01  2.95406163e-01\n",
            "  5.19805968e-01 -3.41879308e-01 -4.03305799e-01 -5.76165378e-01\n",
            "  5.21256387e-01 -3.02080542e-01  1.92664221e-01 -3.98905605e-01\n",
            "  5.33120096e-01 -2.71742493e-01 -3.52856755e-01 -2.26180926e-01\n",
            "  1.56472161e-01  1.70842245e-01  6.19979724e-02  7.81904832e-02\n",
            " -3.34199756e-01  1.65361881e-01  5.28647184e-01  1.30601451e-01\n",
            " -5.43499477e-02 -2.02941418e-01  3.01702581e-02 -1.33737186e-02\n",
            " -1.82952851e-01 -1.73363090e-01 -2.62613386e-01 -5.56185901e-01\n",
            " -4.24799830e-01 -7.60595575e-02  3.72504085e-01 -5.06827831e-01\n",
            " -3.19484264e-01  8.94735232e-02  2.84814149e-01 -2.47889072e-01\n",
            "  3.42927665e-01  3.30310948e-02  9.34567675e-02  1.78901702e-01\n",
            "  1.81042492e-01 -1.37303278e-01  1.37515545e-01  1.55810475e-01\n",
            "  2.53444761e-01  2.88978964e-01 -4.71298605e-01 -2.40966171e-01\n",
            " -1.02444492e-01  5.38172960e-01  3.41833860e-01 -2.17869684e-01\n",
            "  4.49426949e-01  1.15186989e-01 -2.89076775e-01  4.12159979e-01\n",
            " -2.70912468e-01 -6.37938201e-01  4.17861313e-01 -2.84693688e-02\n",
            " -1.26023218e-01  2.39379227e-01  2.72736162e-01  5.47380000e-02\n",
            " -2.06082970e-01  2.04702109e-01 -9.02577564e-02 -2.89373487e-01]\n"
          ],
          "name": "stdout"
        }
      ]
    },
    {
      "cell_type": "markdown",
      "metadata": {
        "id": "bVhVmMAayHLf"
      },
      "source": [
        "#Extract Summary"
      ]
    },
    {
      "cell_type": "code",
      "metadata": {
        "id": "DDrJomFjitws"
      },
      "source": [
        "import math\n",
        "def ecd_dist(x,y):\n",
        "  return math.sqrt(sum([(a - b) ** 2 for a, b in zip(x, y)]))"
      ],
      "execution_count": null,
      "outputs": []
    },
    {
      "cell_type": "code",
      "metadata": {
        "id": "gytVtE9Djx5R",
        "colab": {
          "base_uri": "https://localhost:8080/"
        },
        "outputId": "d5c56ca5-0151-4d50-b3ff-4bbca7ebb28e"
      },
      "source": [
        "idx = []\n",
        "for center in centers:\n",
        "  c_dist = []  \n",
        "  for emb_M in emb_Matrix:\n",
        "    dist = ecd_dist(center, emb_M)\n",
        "    print(dist)\n",
        "    c_dist.append(dist)\n",
        "  idx.append(c_dist.index(min(c_dist)))\n",
        "  #print(c_dist)\n",
        "  print(\"index = \",c_dist.index(min(c_dist)))\n",
        "print(idx)"
      ],
      "execution_count": null,
      "outputs": [
        {
          "output_type": "stream",
          "text": [
            "5.272350085969464\n",
            "5.174767604773056\n",
            "6.1779923955184985\n",
            "7.33881403149102\n",
            "9.899474474969958\n",
            "5.725611477941063\n",
            "5.490115507932209\n",
            "7.587495946425452\n",
            "7.500142942616446\n",
            "5.5542235409474925\n",
            "5.033215685361592\n",
            "4.854419241270493\n",
            "6.758768762483736\n",
            "index =  11\n",
            "7.953206079528529\n",
            "8.185667227947635\n",
            "8.770646360484024\n",
            "4.354616626449472\n",
            "6.094755818217766\n",
            "7.895103636778795\n",
            "8.923021748121794\n",
            "5.714802970322887\n",
            "4.943045618950644\n",
            "8.141376992162156\n",
            "7.737731147999281\n",
            "8.389633942718476\n",
            "8.859856628571054\n",
            "index =  3\n",
            "[11, 3]\n"
          ],
          "name": "stdout"
        }
      ]
    },
    {
      "cell_type": "code",
      "metadata": {
        "id": "xyEc5CvsuTrB",
        "colab": {
          "base_uri": "https://localhost:8080/"
        },
        "outputId": "65d1c786-4dc2-4b38-edf9-5491380f7998"
      },
      "source": [
        "idx.sort()\n",
        "print(idx)"
      ],
      "execution_count": null,
      "outputs": [
        {
          "output_type": "stream",
          "text": [
            "[3, 11]\n"
          ],
          "name": "stdout"
        }
      ]
    },
    {
      "cell_type": "code",
      "metadata": {
        "id": "3t154IxPwm6A"
      },
      "source": [
        "summary = \"\"\n",
        "for i in idx:\n",
        "  summary = summary + sentences[i]"
      ],
      "execution_count": null,
      "outputs": []
    },
    {
      "cell_type": "markdown",
      "metadata": {
        "id": "kpLlnhzLyU6v"
      },
      "source": [
        "#Summary"
      ]
    },
    {
      "cell_type": "code",
      "metadata": {
        "id": "3sd1_EroxObv",
        "colab": {
          "base_uri": "https://localhost:8080/",
          "height": 54
        },
        "outputId": "d0d65a4d-73d1-42db-a63f-027d8f431b7c"
      },
      "source": [
        "summary"
      ],
      "execution_count": null,
      "outputs": [
        {
          "output_type": "execute_result",
          "data": {
            "application/vnd.google.colaboratory.intrinsic+json": {
              "type": "string"
            },
            "text/plain": [
              "'\"Christian Andersen\\'s fairy tales are timeless and universal,\" said Jarre.Later at a gala dinner, Danish supermodel Helena Christensen was named a Hans Christian Andersen ambassador.'"
            ]
          },
          "metadata": {
            "tags": []
          },
          "execution_count": 69
        }
      ]
    },
    {
      "cell_type": "code",
      "metadata": {
        "id": "OJ7zpLf8yZgJ"
      },
      "source": [
        ""
      ],
      "execution_count": null,
      "outputs": []
    }
  ]
}